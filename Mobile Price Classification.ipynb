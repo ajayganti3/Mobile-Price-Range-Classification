{
 "cells": [
  {
   "cell_type": "markdown",
   "metadata": {},
   "source": [
    "# Mobile Price Classification"
   ]
  },
  {
   "cell_type": "code",
   "execution_count": 1,
   "metadata": {
    "_cell_guid": "b1076dfc-b9ad-4769-8c92-a6c4dae69d19",
    "_uuid": "8f2839f25d086af736a60e9eeb907d3b93b6e0e5",
    "execution": {
     "iopub.execute_input": "2021-01-10T11:47:03.371420Z",
     "iopub.status.busy": "2021-01-10T11:47:03.370722Z",
     "iopub.status.idle": "2021-01-10T11:47:04.325877Z",
     "shell.execute_reply": "2021-01-10T11:47:04.325230Z"
    },
    "papermill": {
     "duration": 1.004697,
     "end_time": "2021-01-10T11:47:04.326005",
     "exception": false,
     "start_time": "2021-01-10T11:47:03.321308",
     "status": "completed"
    },
    "tags": []
   },
   "outputs": [],
   "source": [
    "import numpy as np\n",
    "import pandas as pd\n",
    "import matplotlib.pyplot as plt\n",
    "import seaborn as sns\n",
    "from warnings import simplefilter\n",
    "simplefilter(action='ignore')"
   ]
  },
  {
   "cell_type": "markdown",
   "metadata": {
    "papermill": {
     "duration": 0.044566,
     "end_time": "2021-01-10T11:47:04.416035",
     "exception": false,
     "start_time": "2021-01-10T11:47:04.371469",
     "status": "completed"
    },
    "tags": []
   },
   "source": [
    "# Load the dataset"
   ]
  },
  {
   "cell_type": "code",
   "execution_count": 2,
   "metadata": {
    "execution": {
     "iopub.execute_input": "2021-01-10T11:47:04.524222Z",
     "iopub.status.busy": "2021-01-10T11:47:04.523465Z",
     "iopub.status.idle": "2021-01-10T11:47:04.546460Z",
     "shell.execute_reply": "2021-01-10T11:47:04.545848Z"
    },
    "papermill": {
     "duration": 0.085277,
     "end_time": "2021-01-10T11:47:04.546572",
     "exception": false,
     "start_time": "2021-01-10T11:47:04.461295",
     "status": "completed"
    },
    "tags": []
   },
   "outputs": [],
   "source": [
    "df = pd.read_csv('train.csv')"
   ]
  },
  {
   "cell_type": "code",
   "execution_count": 3,
   "metadata": {
    "execution": {
     "iopub.execute_input": "2021-01-10T11:47:04.640758Z",
     "iopub.status.busy": "2021-01-10T11:47:04.640149Z",
     "iopub.status.idle": "2021-01-10T11:47:04.646025Z",
     "shell.execute_reply": "2021-01-10T11:47:04.646515Z"
    },
    "papermill": {
     "duration": 0.054668,
     "end_time": "2021-01-10T11:47:04.646650",
     "exception": false,
     "start_time": "2021-01-10T11:47:04.591982",
     "status": "completed"
    },
    "tags": []
   },
   "outputs": [
    {
     "data": {
      "text/plain": [
       "(2000, 21)"
      ]
     },
     "execution_count": 3,
     "metadata": {},
     "output_type": "execute_result"
    }
   ],
   "source": [
    "df.shape"
   ]
  },
  {
   "cell_type": "code",
   "execution_count": 4,
   "metadata": {
    "execution": {
     "iopub.execute_input": "2021-01-10T11:47:04.741880Z",
     "iopub.status.busy": "2021-01-10T11:47:04.741248Z",
     "iopub.status.idle": "2021-01-10T11:47:04.777027Z",
     "shell.execute_reply": "2021-01-10T11:47:04.776497Z"
    },
    "papermill": {
     "duration": 0.08446,
     "end_time": "2021-01-10T11:47:04.777143",
     "exception": false,
     "start_time": "2021-01-10T11:47:04.692683",
     "status": "completed"
    },
    "tags": []
   },
   "outputs": [
    {
     "data": {
      "text/html": [
       "<div>\n",
       "<style scoped>\n",
       "    .dataframe tbody tr th:only-of-type {\n",
       "        vertical-align: middle;\n",
       "    }\n",
       "\n",
       "    .dataframe tbody tr th {\n",
       "        vertical-align: top;\n",
       "    }\n",
       "\n",
       "    .dataframe thead th {\n",
       "        text-align: right;\n",
       "    }\n",
       "</style>\n",
       "<table border=\"1\" class=\"dataframe\">\n",
       "  <thead>\n",
       "    <tr style=\"text-align: right;\">\n",
       "      <th></th>\n",
       "      <th>battery_power</th>\n",
       "      <th>blue</th>\n",
       "      <th>clock_speed</th>\n",
       "      <th>dual_sim</th>\n",
       "      <th>fc</th>\n",
       "      <th>four_g</th>\n",
       "      <th>int_memory</th>\n",
       "      <th>m_dep</th>\n",
       "      <th>mobile_wt</th>\n",
       "      <th>n_cores</th>\n",
       "      <th>...</th>\n",
       "      <th>px_height</th>\n",
       "      <th>px_width</th>\n",
       "      <th>ram</th>\n",
       "      <th>sc_h</th>\n",
       "      <th>sc_w</th>\n",
       "      <th>talk_time</th>\n",
       "      <th>three_g</th>\n",
       "      <th>touch_screen</th>\n",
       "      <th>wifi</th>\n",
       "      <th>price_range</th>\n",
       "    </tr>\n",
       "  </thead>\n",
       "  <tbody>\n",
       "    <tr>\n",
       "      <th>0</th>\n",
       "      <td>842</td>\n",
       "      <td>0</td>\n",
       "      <td>2.2</td>\n",
       "      <td>0</td>\n",
       "      <td>1</td>\n",
       "      <td>0</td>\n",
       "      <td>7</td>\n",
       "      <td>0.6</td>\n",
       "      <td>188</td>\n",
       "      <td>2</td>\n",
       "      <td>...</td>\n",
       "      <td>20</td>\n",
       "      <td>756</td>\n",
       "      <td>2549</td>\n",
       "      <td>9</td>\n",
       "      <td>7</td>\n",
       "      <td>19</td>\n",
       "      <td>0</td>\n",
       "      <td>0</td>\n",
       "      <td>1</td>\n",
       "      <td>1</td>\n",
       "    </tr>\n",
       "    <tr>\n",
       "      <th>1</th>\n",
       "      <td>1021</td>\n",
       "      <td>1</td>\n",
       "      <td>0.5</td>\n",
       "      <td>1</td>\n",
       "      <td>0</td>\n",
       "      <td>1</td>\n",
       "      <td>53</td>\n",
       "      <td>0.7</td>\n",
       "      <td>136</td>\n",
       "      <td>3</td>\n",
       "      <td>...</td>\n",
       "      <td>905</td>\n",
       "      <td>1988</td>\n",
       "      <td>2631</td>\n",
       "      <td>17</td>\n",
       "      <td>3</td>\n",
       "      <td>7</td>\n",
       "      <td>1</td>\n",
       "      <td>1</td>\n",
       "      <td>0</td>\n",
       "      <td>2</td>\n",
       "    </tr>\n",
       "    <tr>\n",
       "      <th>2</th>\n",
       "      <td>563</td>\n",
       "      <td>1</td>\n",
       "      <td>0.5</td>\n",
       "      <td>1</td>\n",
       "      <td>2</td>\n",
       "      <td>1</td>\n",
       "      <td>41</td>\n",
       "      <td>0.9</td>\n",
       "      <td>145</td>\n",
       "      <td>5</td>\n",
       "      <td>...</td>\n",
       "      <td>1263</td>\n",
       "      <td>1716</td>\n",
       "      <td>2603</td>\n",
       "      <td>11</td>\n",
       "      <td>2</td>\n",
       "      <td>9</td>\n",
       "      <td>1</td>\n",
       "      <td>1</td>\n",
       "      <td>0</td>\n",
       "      <td>2</td>\n",
       "    </tr>\n",
       "    <tr>\n",
       "      <th>3</th>\n",
       "      <td>615</td>\n",
       "      <td>1</td>\n",
       "      <td>2.5</td>\n",
       "      <td>0</td>\n",
       "      <td>0</td>\n",
       "      <td>0</td>\n",
       "      <td>10</td>\n",
       "      <td>0.8</td>\n",
       "      <td>131</td>\n",
       "      <td>6</td>\n",
       "      <td>...</td>\n",
       "      <td>1216</td>\n",
       "      <td>1786</td>\n",
       "      <td>2769</td>\n",
       "      <td>16</td>\n",
       "      <td>8</td>\n",
       "      <td>11</td>\n",
       "      <td>1</td>\n",
       "      <td>0</td>\n",
       "      <td>0</td>\n",
       "      <td>2</td>\n",
       "    </tr>\n",
       "    <tr>\n",
       "      <th>4</th>\n",
       "      <td>1821</td>\n",
       "      <td>1</td>\n",
       "      <td>1.2</td>\n",
       "      <td>0</td>\n",
       "      <td>13</td>\n",
       "      <td>1</td>\n",
       "      <td>44</td>\n",
       "      <td>0.6</td>\n",
       "      <td>141</td>\n",
       "      <td>2</td>\n",
       "      <td>...</td>\n",
       "      <td>1208</td>\n",
       "      <td>1212</td>\n",
       "      <td>1411</td>\n",
       "      <td>8</td>\n",
       "      <td>2</td>\n",
       "      <td>15</td>\n",
       "      <td>1</td>\n",
       "      <td>1</td>\n",
       "      <td>0</td>\n",
       "      <td>1</td>\n",
       "    </tr>\n",
       "  </tbody>\n",
       "</table>\n",
       "<p>5 rows × 21 columns</p>\n",
       "</div>"
      ],
      "text/plain": [
       "   battery_power  blue  clock_speed  dual_sim  fc  four_g  int_memory  m_dep  \\\n",
       "0            842     0          2.2         0   1       0           7    0.6   \n",
       "1           1021     1          0.5         1   0       1          53    0.7   \n",
       "2            563     1          0.5         1   2       1          41    0.9   \n",
       "3            615     1          2.5         0   0       0          10    0.8   \n",
       "4           1821     1          1.2         0  13       1          44    0.6   \n",
       "\n",
       "   mobile_wt  n_cores  ...  px_height  px_width   ram  sc_h  sc_w  talk_time  \\\n",
       "0        188        2  ...         20       756  2549     9     7         19   \n",
       "1        136        3  ...        905      1988  2631    17     3          7   \n",
       "2        145        5  ...       1263      1716  2603    11     2          9   \n",
       "3        131        6  ...       1216      1786  2769    16     8         11   \n",
       "4        141        2  ...       1208      1212  1411     8     2         15   \n",
       "\n",
       "   three_g  touch_screen  wifi  price_range  \n",
       "0        0             0     1            1  \n",
       "1        1             1     0            2  \n",
       "2        1             1     0            2  \n",
       "3        1             0     0            2  \n",
       "4        1             1     0            1  \n",
       "\n",
       "[5 rows x 21 columns]"
      ]
     },
     "execution_count": 4,
     "metadata": {},
     "output_type": "execute_result"
    }
   ],
   "source": [
    "df.head()"
   ]
  },
  {
   "cell_type": "code",
   "execution_count": 5,
   "metadata": {
    "execution": {
     "iopub.execute_input": "2021-01-10T11:47:04.878174Z",
     "iopub.status.busy": "2021-01-10T11:47:04.877532Z",
     "iopub.status.idle": "2021-01-10T11:47:04.882199Z",
     "shell.execute_reply": "2021-01-10T11:47:04.882656Z"
    },
    "papermill": {
     "duration": 0.058762,
     "end_time": "2021-01-10T11:47:04.882824",
     "exception": false,
     "start_time": "2021-01-10T11:47:04.824062",
     "status": "completed"
    },
    "tags": []
   },
   "outputs": [
    {
     "data": {
      "text/plain": [
       "False"
      ]
     },
     "execution_count": 5,
     "metadata": {},
     "output_type": "execute_result"
    }
   ],
   "source": [
    "# check for null values\n",
    "\n",
    "df.isnull().any().any()"
   ]
  },
  {
   "cell_type": "code",
   "execution_count": 6,
   "metadata": {
    "execution": {
     "iopub.execute_input": "2021-01-10T11:47:04.984346Z",
     "iopub.status.busy": "2021-01-10T11:47:04.983587Z",
     "iopub.status.idle": "2021-01-10T11:47:04.987596Z",
     "shell.execute_reply": "2021-01-10T11:47:04.986978Z"
    },
    "papermill": {
     "duration": 0.057073,
     "end_time": "2021-01-10T11:47:04.987706",
     "exception": false,
     "start_time": "2021-01-10T11:47:04.930633",
     "status": "completed"
    },
    "tags": []
   },
   "outputs": [
    {
     "name": "stdout",
     "output_type": "stream",
     "text": [
      "['battery_power', 'blue', 'clock_speed', 'dual_sim', 'fc', 'four_g', 'int_memory', 'm_dep', 'mobile_wt', 'n_cores', 'pc', 'px_height', 'px_width', 'ram', 'sc_h', 'sc_w', 'talk_time', 'three_g', 'touch_screen', 'wifi', 'price_range']\n"
     ]
    }
   ],
   "source": [
    "print(list(df.columns))"
   ]
  },
  {
   "cell_type": "markdown",
   "metadata": {
    "papermill": {
     "duration": 0.047324,
     "end_time": "2021-01-10T11:47:05.082763",
     "exception": false,
     "start_time": "2021-01-10T11:47:05.035439",
     "status": "completed"
    },
    "tags": []
   },
   "source": [
    "# Feature Description\n",
    "\n",
    "## Categorical Variables\n",
    "\n",
    "1. blue - Has bluetooth or not\n",
    "2. dual_sim - Has dual sim support or not\n",
    "3. four_g - Has 4G or not\n",
    "4. n_cores - Number of cores of processor\n",
    "5. three_g - Has 3G or not\n",
    "6. touch_screen - Has touch screen or not\n",
    "7. wifi - Has wifi or not\n",
    "8. price_range - This is the target variable with value of 0(low cost), 1(medium cost), 2(high cost) and 3(very high cost).\n",
    "\n",
    "\n",
    "## Numerical Variables\n",
    "\n",
    "1. battery_power - Total energy a battery can store in one time measured in mAh \n",
    "2. clock_speed - Speed at which microprocessor executes instructions\n",
    "3. fc - Front camera mega pixels\n",
    "4. int_memory - Internal Memory in Gigabytes\n",
    "5. m_dep - Mobile depth in cm\n",
    "6. mobile_wt - Weight of mobile phone\n",
    "7. pc - Primary Camera mega pixels\n",
    "8. px_height - Pixel Resolution Height\n",
    "9. px_width - Pixel Resolution Width\n",
    "10. ram - Random Access Memory in Mega Bytes\n",
    "11. sc_h - Screen Height of mobile in cm\n",
    "12. sc_w - Screen Width of mobile in cm\n",
    "13. talk_time - longest time that a single battery charge will last when you are"
   ]
  },
  {
   "cell_type": "markdown",
   "metadata": {
    "papermill": {
     "duration": 0.047357,
     "end_time": "2021-01-10T11:47:05.178034",
     "exception": false,
     "start_time": "2021-01-10T11:47:05.130677",
     "status": "completed"
    },
    "tags": []
   },
   "source": [
    "# Exploratory Data Analysis"
   ]
  },
  {
   "cell_type": "markdown",
   "metadata": {
    "papermill": {
     "duration": 0.048391,
     "end_time": "2021-01-10T11:47:05.274390",
     "exception": false,
     "start_time": "2021-01-10T11:47:05.225999",
     "status": "completed"
    },
    "tags": []
   },
   "source": [
    "## Correlation of independent variables to target variable"
   ]
  },
  {
   "cell_type": "code",
   "execution_count": 7,
   "metadata": {
    "execution": {
     "iopub.execute_input": "2021-01-10T11:47:05.377139Z",
     "iopub.status.busy": "2021-01-10T11:47:05.374177Z",
     "iopub.status.idle": "2021-01-10T11:47:05.417994Z",
     "shell.execute_reply": "2021-01-10T11:47:05.417456Z"
    },
    "papermill": {
     "duration": 0.096401,
     "end_time": "2021-01-10T11:47:05.418122",
     "exception": false,
     "start_time": "2021-01-10T11:47:05.321721",
     "status": "completed"
    },
    "tags": []
   },
   "outputs": [
    {
     "data": {
      "text/html": [
       "<div>\n",
       "<style scoped>\n",
       "    .dataframe tbody tr th:only-of-type {\n",
       "        vertical-align: middle;\n",
       "    }\n",
       "\n",
       "    .dataframe tbody tr th {\n",
       "        vertical-align: top;\n",
       "    }\n",
       "\n",
       "    .dataframe thead th {\n",
       "        text-align: right;\n",
       "    }\n",
       "</style>\n",
       "<table border=\"1\" class=\"dataframe\">\n",
       "  <thead>\n",
       "    <tr style=\"text-align: right;\">\n",
       "      <th></th>\n",
       "      <th>battery_power</th>\n",
       "      <th>blue</th>\n",
       "      <th>clock_speed</th>\n",
       "      <th>dual_sim</th>\n",
       "      <th>fc</th>\n",
       "      <th>four_g</th>\n",
       "      <th>int_memory</th>\n",
       "      <th>m_dep</th>\n",
       "      <th>mobile_wt</th>\n",
       "      <th>n_cores</th>\n",
       "      <th>...</th>\n",
       "      <th>px_height</th>\n",
       "      <th>px_width</th>\n",
       "      <th>ram</th>\n",
       "      <th>sc_h</th>\n",
       "      <th>sc_w</th>\n",
       "      <th>talk_time</th>\n",
       "      <th>three_g</th>\n",
       "      <th>touch_screen</th>\n",
       "      <th>wifi</th>\n",
       "      <th>price_range</th>\n",
       "    </tr>\n",
       "  </thead>\n",
       "  <tbody>\n",
       "    <tr>\n",
       "      <th>battery_power</th>\n",
       "      <td>1.000000</td>\n",
       "      <td>0.011252</td>\n",
       "      <td>0.011482</td>\n",
       "      <td>-0.041847</td>\n",
       "      <td>0.033334</td>\n",
       "      <td>0.015665</td>\n",
       "      <td>-0.004004</td>\n",
       "      <td>0.034085</td>\n",
       "      <td>0.001844</td>\n",
       "      <td>-0.029727</td>\n",
       "      <td>...</td>\n",
       "      <td>0.014901</td>\n",
       "      <td>-0.008402</td>\n",
       "      <td>-0.000653</td>\n",
       "      <td>-0.029959</td>\n",
       "      <td>-0.021421</td>\n",
       "      <td>0.052510</td>\n",
       "      <td>0.011522</td>\n",
       "      <td>-0.010516</td>\n",
       "      <td>-0.008343</td>\n",
       "      <td>0.200723</td>\n",
       "    </tr>\n",
       "    <tr>\n",
       "      <th>blue</th>\n",
       "      <td>0.011252</td>\n",
       "      <td>1.000000</td>\n",
       "      <td>0.021419</td>\n",
       "      <td>0.035198</td>\n",
       "      <td>0.003593</td>\n",
       "      <td>0.013443</td>\n",
       "      <td>0.041177</td>\n",
       "      <td>0.004049</td>\n",
       "      <td>-0.008605</td>\n",
       "      <td>0.036161</td>\n",
       "      <td>...</td>\n",
       "      <td>-0.006872</td>\n",
       "      <td>-0.041533</td>\n",
       "      <td>0.026351</td>\n",
       "      <td>-0.002952</td>\n",
       "      <td>0.000613</td>\n",
       "      <td>0.013934</td>\n",
       "      <td>-0.030236</td>\n",
       "      <td>0.010061</td>\n",
       "      <td>-0.021863</td>\n",
       "      <td>0.020573</td>\n",
       "    </tr>\n",
       "    <tr>\n",
       "      <th>clock_speed</th>\n",
       "      <td>0.011482</td>\n",
       "      <td>0.021419</td>\n",
       "      <td>1.000000</td>\n",
       "      <td>-0.001315</td>\n",
       "      <td>-0.000434</td>\n",
       "      <td>-0.043073</td>\n",
       "      <td>0.006545</td>\n",
       "      <td>-0.014364</td>\n",
       "      <td>0.012350</td>\n",
       "      <td>-0.005724</td>\n",
       "      <td>...</td>\n",
       "      <td>-0.014523</td>\n",
       "      <td>-0.009476</td>\n",
       "      <td>0.003443</td>\n",
       "      <td>-0.029078</td>\n",
       "      <td>-0.007378</td>\n",
       "      <td>-0.011432</td>\n",
       "      <td>-0.046433</td>\n",
       "      <td>0.019756</td>\n",
       "      <td>-0.024471</td>\n",
       "      <td>-0.006606</td>\n",
       "    </tr>\n",
       "    <tr>\n",
       "      <th>dual_sim</th>\n",
       "      <td>-0.041847</td>\n",
       "      <td>0.035198</td>\n",
       "      <td>-0.001315</td>\n",
       "      <td>1.000000</td>\n",
       "      <td>-0.029123</td>\n",
       "      <td>0.003187</td>\n",
       "      <td>-0.015679</td>\n",
       "      <td>-0.022142</td>\n",
       "      <td>-0.008979</td>\n",
       "      <td>-0.024658</td>\n",
       "      <td>...</td>\n",
       "      <td>-0.020875</td>\n",
       "      <td>0.014291</td>\n",
       "      <td>0.041072</td>\n",
       "      <td>-0.011949</td>\n",
       "      <td>-0.016666</td>\n",
       "      <td>-0.039404</td>\n",
       "      <td>-0.014008</td>\n",
       "      <td>-0.017117</td>\n",
       "      <td>0.022740</td>\n",
       "      <td>0.017444</td>\n",
       "    </tr>\n",
       "    <tr>\n",
       "      <th>fc</th>\n",
       "      <td>0.033334</td>\n",
       "      <td>0.003593</td>\n",
       "      <td>-0.000434</td>\n",
       "      <td>-0.029123</td>\n",
       "      <td>1.000000</td>\n",
       "      <td>-0.016560</td>\n",
       "      <td>-0.029133</td>\n",
       "      <td>-0.001791</td>\n",
       "      <td>0.023618</td>\n",
       "      <td>-0.013356</td>\n",
       "      <td>...</td>\n",
       "      <td>-0.009990</td>\n",
       "      <td>-0.005176</td>\n",
       "      <td>0.015099</td>\n",
       "      <td>-0.011014</td>\n",
       "      <td>-0.012373</td>\n",
       "      <td>-0.006829</td>\n",
       "      <td>0.001793</td>\n",
       "      <td>-0.014828</td>\n",
       "      <td>0.020085</td>\n",
       "      <td>0.021998</td>\n",
       "    </tr>\n",
       "    <tr>\n",
       "      <th>four_g</th>\n",
       "      <td>0.015665</td>\n",
       "      <td>0.013443</td>\n",
       "      <td>-0.043073</td>\n",
       "      <td>0.003187</td>\n",
       "      <td>-0.016560</td>\n",
       "      <td>1.000000</td>\n",
       "      <td>0.008690</td>\n",
       "      <td>-0.001823</td>\n",
       "      <td>-0.016537</td>\n",
       "      <td>-0.029706</td>\n",
       "      <td>...</td>\n",
       "      <td>-0.019236</td>\n",
       "      <td>0.007448</td>\n",
       "      <td>0.007313</td>\n",
       "      <td>0.027166</td>\n",
       "      <td>0.037005</td>\n",
       "      <td>-0.046628</td>\n",
       "      <td>0.584246</td>\n",
       "      <td>0.016758</td>\n",
       "      <td>-0.017620</td>\n",
       "      <td>0.014772</td>\n",
       "    </tr>\n",
       "    <tr>\n",
       "      <th>int_memory</th>\n",
       "      <td>-0.004004</td>\n",
       "      <td>0.041177</td>\n",
       "      <td>0.006545</td>\n",
       "      <td>-0.015679</td>\n",
       "      <td>-0.029133</td>\n",
       "      <td>0.008690</td>\n",
       "      <td>1.000000</td>\n",
       "      <td>0.006886</td>\n",
       "      <td>-0.034214</td>\n",
       "      <td>-0.028310</td>\n",
       "      <td>...</td>\n",
       "      <td>0.010441</td>\n",
       "      <td>-0.008335</td>\n",
       "      <td>0.032813</td>\n",
       "      <td>0.037771</td>\n",
       "      <td>0.011731</td>\n",
       "      <td>-0.002790</td>\n",
       "      <td>-0.009366</td>\n",
       "      <td>-0.026999</td>\n",
       "      <td>0.006993</td>\n",
       "      <td>0.044435</td>\n",
       "    </tr>\n",
       "    <tr>\n",
       "      <th>m_dep</th>\n",
       "      <td>0.034085</td>\n",
       "      <td>0.004049</td>\n",
       "      <td>-0.014364</td>\n",
       "      <td>-0.022142</td>\n",
       "      <td>-0.001791</td>\n",
       "      <td>-0.001823</td>\n",
       "      <td>0.006886</td>\n",
       "      <td>1.000000</td>\n",
       "      <td>0.021756</td>\n",
       "      <td>-0.003504</td>\n",
       "      <td>...</td>\n",
       "      <td>0.025263</td>\n",
       "      <td>0.023566</td>\n",
       "      <td>-0.009434</td>\n",
       "      <td>-0.025348</td>\n",
       "      <td>-0.018388</td>\n",
       "      <td>0.017003</td>\n",
       "      <td>-0.012065</td>\n",
       "      <td>-0.002638</td>\n",
       "      <td>-0.028353</td>\n",
       "      <td>0.000853</td>\n",
       "    </tr>\n",
       "    <tr>\n",
       "      <th>mobile_wt</th>\n",
       "      <td>0.001844</td>\n",
       "      <td>-0.008605</td>\n",
       "      <td>0.012350</td>\n",
       "      <td>-0.008979</td>\n",
       "      <td>0.023618</td>\n",
       "      <td>-0.016537</td>\n",
       "      <td>-0.034214</td>\n",
       "      <td>0.021756</td>\n",
       "      <td>1.000000</td>\n",
       "      <td>-0.018989</td>\n",
       "      <td>...</td>\n",
       "      <td>0.000939</td>\n",
       "      <td>0.000090</td>\n",
       "      <td>-0.002581</td>\n",
       "      <td>-0.033855</td>\n",
       "      <td>-0.020761</td>\n",
       "      <td>0.006209</td>\n",
       "      <td>0.001551</td>\n",
       "      <td>-0.014368</td>\n",
       "      <td>-0.000409</td>\n",
       "      <td>-0.030302</td>\n",
       "    </tr>\n",
       "    <tr>\n",
       "      <th>n_cores</th>\n",
       "      <td>-0.029727</td>\n",
       "      <td>0.036161</td>\n",
       "      <td>-0.005724</td>\n",
       "      <td>-0.024658</td>\n",
       "      <td>-0.013356</td>\n",
       "      <td>-0.029706</td>\n",
       "      <td>-0.028310</td>\n",
       "      <td>-0.003504</td>\n",
       "      <td>-0.018989</td>\n",
       "      <td>1.000000</td>\n",
       "      <td>...</td>\n",
       "      <td>-0.006872</td>\n",
       "      <td>0.024480</td>\n",
       "      <td>0.004868</td>\n",
       "      <td>-0.000315</td>\n",
       "      <td>0.025826</td>\n",
       "      <td>0.013148</td>\n",
       "      <td>-0.014733</td>\n",
       "      <td>0.023774</td>\n",
       "      <td>-0.009964</td>\n",
       "      <td>0.004399</td>\n",
       "    </tr>\n",
       "    <tr>\n",
       "      <th>pc</th>\n",
       "      <td>0.031441</td>\n",
       "      <td>-0.009952</td>\n",
       "      <td>-0.005245</td>\n",
       "      <td>-0.017143</td>\n",
       "      <td>0.644595</td>\n",
       "      <td>-0.005598</td>\n",
       "      <td>-0.033273</td>\n",
       "      <td>0.026282</td>\n",
       "      <td>0.018844</td>\n",
       "      <td>-0.001193</td>\n",
       "      <td>...</td>\n",
       "      <td>-0.018465</td>\n",
       "      <td>0.004196</td>\n",
       "      <td>0.028984</td>\n",
       "      <td>0.004938</td>\n",
       "      <td>-0.023819</td>\n",
       "      <td>0.014657</td>\n",
       "      <td>-0.001322</td>\n",
       "      <td>-0.008742</td>\n",
       "      <td>0.005389</td>\n",
       "      <td>0.033599</td>\n",
       "    </tr>\n",
       "    <tr>\n",
       "      <th>px_height</th>\n",
       "      <td>0.014901</td>\n",
       "      <td>-0.006872</td>\n",
       "      <td>-0.014523</td>\n",
       "      <td>-0.020875</td>\n",
       "      <td>-0.009990</td>\n",
       "      <td>-0.019236</td>\n",
       "      <td>0.010441</td>\n",
       "      <td>0.025263</td>\n",
       "      <td>0.000939</td>\n",
       "      <td>-0.006872</td>\n",
       "      <td>...</td>\n",
       "      <td>1.000000</td>\n",
       "      <td>0.510664</td>\n",
       "      <td>-0.020352</td>\n",
       "      <td>0.059615</td>\n",
       "      <td>0.043038</td>\n",
       "      <td>-0.010645</td>\n",
       "      <td>-0.031174</td>\n",
       "      <td>0.021891</td>\n",
       "      <td>0.051824</td>\n",
       "      <td>0.148858</td>\n",
       "    </tr>\n",
       "    <tr>\n",
       "      <th>px_width</th>\n",
       "      <td>-0.008402</td>\n",
       "      <td>-0.041533</td>\n",
       "      <td>-0.009476</td>\n",
       "      <td>0.014291</td>\n",
       "      <td>-0.005176</td>\n",
       "      <td>0.007448</td>\n",
       "      <td>-0.008335</td>\n",
       "      <td>0.023566</td>\n",
       "      <td>0.000090</td>\n",
       "      <td>0.024480</td>\n",
       "      <td>...</td>\n",
       "      <td>0.510664</td>\n",
       "      <td>1.000000</td>\n",
       "      <td>0.004105</td>\n",
       "      <td>0.021599</td>\n",
       "      <td>0.034699</td>\n",
       "      <td>0.006720</td>\n",
       "      <td>0.000350</td>\n",
       "      <td>-0.001628</td>\n",
       "      <td>0.030319</td>\n",
       "      <td>0.165818</td>\n",
       "    </tr>\n",
       "    <tr>\n",
       "      <th>ram</th>\n",
       "      <td>-0.000653</td>\n",
       "      <td>0.026351</td>\n",
       "      <td>0.003443</td>\n",
       "      <td>0.041072</td>\n",
       "      <td>0.015099</td>\n",
       "      <td>0.007313</td>\n",
       "      <td>0.032813</td>\n",
       "      <td>-0.009434</td>\n",
       "      <td>-0.002581</td>\n",
       "      <td>0.004868</td>\n",
       "      <td>...</td>\n",
       "      <td>-0.020352</td>\n",
       "      <td>0.004105</td>\n",
       "      <td>1.000000</td>\n",
       "      <td>0.015996</td>\n",
       "      <td>0.035576</td>\n",
       "      <td>0.010820</td>\n",
       "      <td>0.015795</td>\n",
       "      <td>-0.030455</td>\n",
       "      <td>0.022669</td>\n",
       "      <td>0.917046</td>\n",
       "    </tr>\n",
       "    <tr>\n",
       "      <th>sc_h</th>\n",
       "      <td>-0.029959</td>\n",
       "      <td>-0.002952</td>\n",
       "      <td>-0.029078</td>\n",
       "      <td>-0.011949</td>\n",
       "      <td>-0.011014</td>\n",
       "      <td>0.027166</td>\n",
       "      <td>0.037771</td>\n",
       "      <td>-0.025348</td>\n",
       "      <td>-0.033855</td>\n",
       "      <td>-0.000315</td>\n",
       "      <td>...</td>\n",
       "      <td>0.059615</td>\n",
       "      <td>0.021599</td>\n",
       "      <td>0.015996</td>\n",
       "      <td>1.000000</td>\n",
       "      <td>0.506144</td>\n",
       "      <td>-0.017335</td>\n",
       "      <td>0.012033</td>\n",
       "      <td>-0.020023</td>\n",
       "      <td>0.025929</td>\n",
       "      <td>0.022986</td>\n",
       "    </tr>\n",
       "    <tr>\n",
       "      <th>sc_w</th>\n",
       "      <td>-0.021421</td>\n",
       "      <td>0.000613</td>\n",
       "      <td>-0.007378</td>\n",
       "      <td>-0.016666</td>\n",
       "      <td>-0.012373</td>\n",
       "      <td>0.037005</td>\n",
       "      <td>0.011731</td>\n",
       "      <td>-0.018388</td>\n",
       "      <td>-0.020761</td>\n",
       "      <td>0.025826</td>\n",
       "      <td>...</td>\n",
       "      <td>0.043038</td>\n",
       "      <td>0.034699</td>\n",
       "      <td>0.035576</td>\n",
       "      <td>0.506144</td>\n",
       "      <td>1.000000</td>\n",
       "      <td>-0.022821</td>\n",
       "      <td>0.030941</td>\n",
       "      <td>0.012720</td>\n",
       "      <td>0.035423</td>\n",
       "      <td>0.038711</td>\n",
       "    </tr>\n",
       "    <tr>\n",
       "      <th>talk_time</th>\n",
       "      <td>0.052510</td>\n",
       "      <td>0.013934</td>\n",
       "      <td>-0.011432</td>\n",
       "      <td>-0.039404</td>\n",
       "      <td>-0.006829</td>\n",
       "      <td>-0.046628</td>\n",
       "      <td>-0.002790</td>\n",
       "      <td>0.017003</td>\n",
       "      <td>0.006209</td>\n",
       "      <td>0.013148</td>\n",
       "      <td>...</td>\n",
       "      <td>-0.010645</td>\n",
       "      <td>0.006720</td>\n",
       "      <td>0.010820</td>\n",
       "      <td>-0.017335</td>\n",
       "      <td>-0.022821</td>\n",
       "      <td>1.000000</td>\n",
       "      <td>-0.042688</td>\n",
       "      <td>0.017196</td>\n",
       "      <td>-0.029504</td>\n",
       "      <td>0.021859</td>\n",
       "    </tr>\n",
       "    <tr>\n",
       "      <th>three_g</th>\n",
       "      <td>0.011522</td>\n",
       "      <td>-0.030236</td>\n",
       "      <td>-0.046433</td>\n",
       "      <td>-0.014008</td>\n",
       "      <td>0.001793</td>\n",
       "      <td>0.584246</td>\n",
       "      <td>-0.009366</td>\n",
       "      <td>-0.012065</td>\n",
       "      <td>0.001551</td>\n",
       "      <td>-0.014733</td>\n",
       "      <td>...</td>\n",
       "      <td>-0.031174</td>\n",
       "      <td>0.000350</td>\n",
       "      <td>0.015795</td>\n",
       "      <td>0.012033</td>\n",
       "      <td>0.030941</td>\n",
       "      <td>-0.042688</td>\n",
       "      <td>1.000000</td>\n",
       "      <td>0.013917</td>\n",
       "      <td>0.004316</td>\n",
       "      <td>0.023611</td>\n",
       "    </tr>\n",
       "    <tr>\n",
       "      <th>touch_screen</th>\n",
       "      <td>-0.010516</td>\n",
       "      <td>0.010061</td>\n",
       "      <td>0.019756</td>\n",
       "      <td>-0.017117</td>\n",
       "      <td>-0.014828</td>\n",
       "      <td>0.016758</td>\n",
       "      <td>-0.026999</td>\n",
       "      <td>-0.002638</td>\n",
       "      <td>-0.014368</td>\n",
       "      <td>0.023774</td>\n",
       "      <td>...</td>\n",
       "      <td>0.021891</td>\n",
       "      <td>-0.001628</td>\n",
       "      <td>-0.030455</td>\n",
       "      <td>-0.020023</td>\n",
       "      <td>0.012720</td>\n",
       "      <td>0.017196</td>\n",
       "      <td>0.013917</td>\n",
       "      <td>1.000000</td>\n",
       "      <td>0.011917</td>\n",
       "      <td>-0.030411</td>\n",
       "    </tr>\n",
       "    <tr>\n",
       "      <th>wifi</th>\n",
       "      <td>-0.008343</td>\n",
       "      <td>-0.021863</td>\n",
       "      <td>-0.024471</td>\n",
       "      <td>0.022740</td>\n",
       "      <td>0.020085</td>\n",
       "      <td>-0.017620</td>\n",
       "      <td>0.006993</td>\n",
       "      <td>-0.028353</td>\n",
       "      <td>-0.000409</td>\n",
       "      <td>-0.009964</td>\n",
       "      <td>...</td>\n",
       "      <td>0.051824</td>\n",
       "      <td>0.030319</td>\n",
       "      <td>0.022669</td>\n",
       "      <td>0.025929</td>\n",
       "      <td>0.035423</td>\n",
       "      <td>-0.029504</td>\n",
       "      <td>0.004316</td>\n",
       "      <td>0.011917</td>\n",
       "      <td>1.000000</td>\n",
       "      <td>0.018785</td>\n",
       "    </tr>\n",
       "    <tr>\n",
       "      <th>price_range</th>\n",
       "      <td>0.200723</td>\n",
       "      <td>0.020573</td>\n",
       "      <td>-0.006606</td>\n",
       "      <td>0.017444</td>\n",
       "      <td>0.021998</td>\n",
       "      <td>0.014772</td>\n",
       "      <td>0.044435</td>\n",
       "      <td>0.000853</td>\n",
       "      <td>-0.030302</td>\n",
       "      <td>0.004399</td>\n",
       "      <td>...</td>\n",
       "      <td>0.148858</td>\n",
       "      <td>0.165818</td>\n",
       "      <td>0.917046</td>\n",
       "      <td>0.022986</td>\n",
       "      <td>0.038711</td>\n",
       "      <td>0.021859</td>\n",
       "      <td>0.023611</td>\n",
       "      <td>-0.030411</td>\n",
       "      <td>0.018785</td>\n",
       "      <td>1.000000</td>\n",
       "    </tr>\n",
       "  </tbody>\n",
       "</table>\n",
       "<p>21 rows × 21 columns</p>\n",
       "</div>"
      ],
      "text/plain": [
       "               battery_power      blue  clock_speed  dual_sim        fc  \\\n",
       "battery_power       1.000000  0.011252     0.011482 -0.041847  0.033334   \n",
       "blue                0.011252  1.000000     0.021419  0.035198  0.003593   \n",
       "clock_speed         0.011482  0.021419     1.000000 -0.001315 -0.000434   \n",
       "dual_sim           -0.041847  0.035198    -0.001315  1.000000 -0.029123   \n",
       "fc                  0.033334  0.003593    -0.000434 -0.029123  1.000000   \n",
       "four_g              0.015665  0.013443    -0.043073  0.003187 -0.016560   \n",
       "int_memory         -0.004004  0.041177     0.006545 -0.015679 -0.029133   \n",
       "m_dep               0.034085  0.004049    -0.014364 -0.022142 -0.001791   \n",
       "mobile_wt           0.001844 -0.008605     0.012350 -0.008979  0.023618   \n",
       "n_cores            -0.029727  0.036161    -0.005724 -0.024658 -0.013356   \n",
       "pc                  0.031441 -0.009952    -0.005245 -0.017143  0.644595   \n",
       "px_height           0.014901 -0.006872    -0.014523 -0.020875 -0.009990   \n",
       "px_width           -0.008402 -0.041533    -0.009476  0.014291 -0.005176   \n",
       "ram                -0.000653  0.026351     0.003443  0.041072  0.015099   \n",
       "sc_h               -0.029959 -0.002952    -0.029078 -0.011949 -0.011014   \n",
       "sc_w               -0.021421  0.000613    -0.007378 -0.016666 -0.012373   \n",
       "talk_time           0.052510  0.013934    -0.011432 -0.039404 -0.006829   \n",
       "three_g             0.011522 -0.030236    -0.046433 -0.014008  0.001793   \n",
       "touch_screen       -0.010516  0.010061     0.019756 -0.017117 -0.014828   \n",
       "wifi               -0.008343 -0.021863    -0.024471  0.022740  0.020085   \n",
       "price_range         0.200723  0.020573    -0.006606  0.017444  0.021998   \n",
       "\n",
       "                 four_g  int_memory     m_dep  mobile_wt   n_cores  ...  \\\n",
       "battery_power  0.015665   -0.004004  0.034085   0.001844 -0.029727  ...   \n",
       "blue           0.013443    0.041177  0.004049  -0.008605  0.036161  ...   \n",
       "clock_speed   -0.043073    0.006545 -0.014364   0.012350 -0.005724  ...   \n",
       "dual_sim       0.003187   -0.015679 -0.022142  -0.008979 -0.024658  ...   \n",
       "fc            -0.016560   -0.029133 -0.001791   0.023618 -0.013356  ...   \n",
       "four_g         1.000000    0.008690 -0.001823  -0.016537 -0.029706  ...   \n",
       "int_memory     0.008690    1.000000  0.006886  -0.034214 -0.028310  ...   \n",
       "m_dep         -0.001823    0.006886  1.000000   0.021756 -0.003504  ...   \n",
       "mobile_wt     -0.016537   -0.034214  0.021756   1.000000 -0.018989  ...   \n",
       "n_cores       -0.029706   -0.028310 -0.003504  -0.018989  1.000000  ...   \n",
       "pc            -0.005598   -0.033273  0.026282   0.018844 -0.001193  ...   \n",
       "px_height     -0.019236    0.010441  0.025263   0.000939 -0.006872  ...   \n",
       "px_width       0.007448   -0.008335  0.023566   0.000090  0.024480  ...   \n",
       "ram            0.007313    0.032813 -0.009434  -0.002581  0.004868  ...   \n",
       "sc_h           0.027166    0.037771 -0.025348  -0.033855 -0.000315  ...   \n",
       "sc_w           0.037005    0.011731 -0.018388  -0.020761  0.025826  ...   \n",
       "talk_time     -0.046628   -0.002790  0.017003   0.006209  0.013148  ...   \n",
       "three_g        0.584246   -0.009366 -0.012065   0.001551 -0.014733  ...   \n",
       "touch_screen   0.016758   -0.026999 -0.002638  -0.014368  0.023774  ...   \n",
       "wifi          -0.017620    0.006993 -0.028353  -0.000409 -0.009964  ...   \n",
       "price_range    0.014772    0.044435  0.000853  -0.030302  0.004399  ...   \n",
       "\n",
       "               px_height  px_width       ram      sc_h      sc_w  talk_time  \\\n",
       "battery_power   0.014901 -0.008402 -0.000653 -0.029959 -0.021421   0.052510   \n",
       "blue           -0.006872 -0.041533  0.026351 -0.002952  0.000613   0.013934   \n",
       "clock_speed    -0.014523 -0.009476  0.003443 -0.029078 -0.007378  -0.011432   \n",
       "dual_sim       -0.020875  0.014291  0.041072 -0.011949 -0.016666  -0.039404   \n",
       "fc             -0.009990 -0.005176  0.015099 -0.011014 -0.012373  -0.006829   \n",
       "four_g         -0.019236  0.007448  0.007313  0.027166  0.037005  -0.046628   \n",
       "int_memory      0.010441 -0.008335  0.032813  0.037771  0.011731  -0.002790   \n",
       "m_dep           0.025263  0.023566 -0.009434 -0.025348 -0.018388   0.017003   \n",
       "mobile_wt       0.000939  0.000090 -0.002581 -0.033855 -0.020761   0.006209   \n",
       "n_cores        -0.006872  0.024480  0.004868 -0.000315  0.025826   0.013148   \n",
       "pc             -0.018465  0.004196  0.028984  0.004938 -0.023819   0.014657   \n",
       "px_height       1.000000  0.510664 -0.020352  0.059615  0.043038  -0.010645   \n",
       "px_width        0.510664  1.000000  0.004105  0.021599  0.034699   0.006720   \n",
       "ram            -0.020352  0.004105  1.000000  0.015996  0.035576   0.010820   \n",
       "sc_h            0.059615  0.021599  0.015996  1.000000  0.506144  -0.017335   \n",
       "sc_w            0.043038  0.034699  0.035576  0.506144  1.000000  -0.022821   \n",
       "talk_time      -0.010645  0.006720  0.010820 -0.017335 -0.022821   1.000000   \n",
       "three_g        -0.031174  0.000350  0.015795  0.012033  0.030941  -0.042688   \n",
       "touch_screen    0.021891 -0.001628 -0.030455 -0.020023  0.012720   0.017196   \n",
       "wifi            0.051824  0.030319  0.022669  0.025929  0.035423  -0.029504   \n",
       "price_range     0.148858  0.165818  0.917046  0.022986  0.038711   0.021859   \n",
       "\n",
       "                three_g  touch_screen      wifi  price_range  \n",
       "battery_power  0.011522     -0.010516 -0.008343     0.200723  \n",
       "blue          -0.030236      0.010061 -0.021863     0.020573  \n",
       "clock_speed   -0.046433      0.019756 -0.024471    -0.006606  \n",
       "dual_sim      -0.014008     -0.017117  0.022740     0.017444  \n",
       "fc             0.001793     -0.014828  0.020085     0.021998  \n",
       "four_g         0.584246      0.016758 -0.017620     0.014772  \n",
       "int_memory    -0.009366     -0.026999  0.006993     0.044435  \n",
       "m_dep         -0.012065     -0.002638 -0.028353     0.000853  \n",
       "mobile_wt      0.001551     -0.014368 -0.000409    -0.030302  \n",
       "n_cores       -0.014733      0.023774 -0.009964     0.004399  \n",
       "pc            -0.001322     -0.008742  0.005389     0.033599  \n",
       "px_height     -0.031174      0.021891  0.051824     0.148858  \n",
       "px_width       0.000350     -0.001628  0.030319     0.165818  \n",
       "ram            0.015795     -0.030455  0.022669     0.917046  \n",
       "sc_h           0.012033     -0.020023  0.025929     0.022986  \n",
       "sc_w           0.030941      0.012720  0.035423     0.038711  \n",
       "talk_time     -0.042688      0.017196 -0.029504     0.021859  \n",
       "three_g        1.000000      0.013917  0.004316     0.023611  \n",
       "touch_screen   0.013917      1.000000  0.011917    -0.030411  \n",
       "wifi           0.004316      0.011917  1.000000     0.018785  \n",
       "price_range    0.023611     -0.030411  0.018785     1.000000  \n",
       "\n",
       "[21 rows x 21 columns]"
      ]
     },
     "execution_count": 7,
     "metadata": {},
     "output_type": "execute_result"
    }
   ],
   "source": [
    "corr = df.corr()\n",
    "corr"
   ]
  },
  {
   "cell_type": "code",
   "execution_count": 8,
   "metadata": {
    "execution": {
     "iopub.execute_input": "2021-01-10T11:47:05.525305Z",
     "iopub.status.busy": "2021-01-10T11:47:05.524575Z",
     "iopub.status.idle": "2021-01-10T11:47:07.371554Z",
     "shell.execute_reply": "2021-01-10T11:47:07.372139Z"
    },
    "papermill": {
     "duration": 1.903574,
     "end_time": "2021-01-10T11:47:07.372305",
     "exception": false,
     "start_time": "2021-01-10T11:47:05.468731",
     "status": "completed"
    },
    "tags": []
   },
   "outputs": [
    {
     "data": {
      "image/png": "[encoded data removed]",
      "text/plain": [
       "<Figure size 1224x720 with 2 Axes>"
      ]
     },
     "metadata": {
      "needs_background": "light"
     },
     "output_type": "display_data"
    }
   ],
   "source": [
    "plt.figure(figsize=(17,10))\n",
    "sns.heatmap(df.corr(),annot=True,fmt='.2f',cmap='viridis')\n",
    "plt.show()"
   ]
  },
  {
   "cell_type": "code",
   "execution_count": 9,
   "metadata": {
    "execution": {
     "iopub.execute_input": "2021-01-10T11:47:07.484810Z",
     "iopub.status.busy": "2021-01-10T11:47:07.483765Z",
     "iopub.status.idle": "2021-01-10T11:47:07.494454Z",
     "shell.execute_reply": "2021-01-10T11:47:07.493817Z"
    },
    "papermill": {
     "duration": 0.068128,
     "end_time": "2021-01-10T11:47:07.494564",
     "exception": false,
     "start_time": "2021-01-10T11:47:07.426436",
     "status": "completed"
    },
    "tags": []
   },
   "outputs": [
    {
     "data": {
      "text/plain": [
       "ram              0.917046\n",
       "battery_power    0.200723\n",
       "px_width         0.165818\n",
       "px_height        0.148858\n",
       "int_memory       0.044435\n",
       "sc_w             0.038711\n",
       "pc               0.033599\n",
       "three_g          0.023611\n",
       "sc_h             0.022986\n",
       "fc               0.021998\n",
       "talk_time        0.021859\n",
       "blue             0.020573\n",
       "wifi             0.018785\n",
       "dual_sim         0.017444\n",
       "four_g           0.014772\n",
       "n_cores          0.004399\n",
       "m_dep            0.000853\n",
       "clock_speed     -0.006606\n",
       "mobile_wt       -0.030302\n",
       "touch_screen    -0.030411\n",
       "Name: price_range, dtype: float64"
      ]
     },
     "execution_count": 9,
     "metadata": {},
     "output_type": "execute_result"
    }
   ],
   "source": [
    "# lets see the features with high correlation to price range\n",
    "# we can see that ram was highly correlated to price range\n",
    "\n",
    "corr['price_range'].drop(['price_range']).sort_values(ascending=False)"
   ]
  },
  {
   "cell_type": "code",
   "execution_count": 10,
   "metadata": {
    "execution": {
     "iopub.execute_input": "2021-01-10T11:47:07.608852Z",
     "iopub.status.busy": "2021-01-10T11:47:07.608123Z",
     "iopub.status.idle": "2021-01-10T11:47:07.820873Z",
     "shell.execute_reply": "2021-01-10T11:47:07.821394Z"
    },
    "papermill": {
     "duration": 0.273571,
     "end_time": "2021-01-10T11:47:07.821552",
     "exception": false,
     "start_time": "2021-01-10T11:47:07.547981",
     "status": "completed"
    },
    "tags": []
   },
   "outputs": [
    {
     "data": {
      "image/png": "[encoded data removed]",
      "text/plain": [
       "<Figure size 432x288 with 1 Axes>"
      ]
     },
     "metadata": {
      "needs_background": "light"
     },
     "output_type": "display_data"
    }
   ],
   "source": [
    "# distribution of price range \n",
    "# 0(low cost), 1(medium cost), 2(high cost) and 3(very high cost)\n",
    "\n",
    "sns.countplot(x='price_range', data=df)\n",
    "plt.show()"
   ]
  },
  {
   "cell_type": "markdown",
   "metadata": {
    "papermill": {
     "duration": 0.054764,
     "end_time": "2021-01-10T11:47:07.931513",
     "exception": false,
     "start_time": "2021-01-10T11:47:07.876749",
     "status": "completed"
    },
    "tags": []
   },
   "source": [
    "## Lets explore categorical variables"
   ]
  },
  {
   "cell_type": "markdown",
   "metadata": {
    "papermill": {
     "duration": 0.054271,
     "end_time": "2021-01-10T11:47:08.040377",
     "exception": false,
     "start_time": "2021-01-10T11:47:07.986106",
     "status": "completed"
    },
    "tags": []
   },
   "source": [
    "### Distribution of data based on ram"
   ]
  },
  {
   "cell_type": "code",
   "execution_count": 11,
   "metadata": {
    "execution": {
     "iopub.execute_input": "2021-01-10T11:47:08.153171Z",
     "iopub.status.busy": "2021-01-10T11:47:08.152509Z",
     "iopub.status.idle": "2021-01-10T11:47:08.454007Z",
     "shell.execute_reply": "2021-01-10T11:47:08.453214Z"
    },
    "papermill": {
     "duration": 0.359266,
     "end_time": "2021-01-10T11:47:08.454176",
     "exception": false,
     "start_time": "2021-01-10T11:47:08.094910",
     "status": "completed"
    },
    "tags": []
   },
   "outputs": [
    {
     "data": {
      "image/png": "[encoded data removed]",
      "text/plain": [
       "<Figure size 720x576 with 1 Axes>"
      ]
     },
     "metadata": {
      "needs_background": "light"
     },
     "output_type": "display_data"
    }
   ],
   "source": [
    "plt.figure(figsize=(10,8))\n",
    "sns.kdeplot(df[df['price_range']==0]['ram'],shade=True)\n",
    "sns.kdeplot(df[df['price_range']==1]['ram'],shade=True)\n",
    "sns.kdeplot(df[df['price_range']==2]['ram'],shade=True)\n",
    "sns.kdeplot(df[df['price_range']==3]['ram'],shade=True)\n",
    "plt.legend(['low cost ram','medium cost ram','high cost ram','very high cost ram'])\n",
    "plt.show()"
   ]
  },
  {
   "cell_type": "markdown",
   "metadata": {
    "papermill": {
     "duration": 0.057656,
     "end_time": "2021-01-10T11:47:08.585731",
     "exception": false,
     "start_time": "2021-01-10T11:47:08.528075",
     "status": "completed"
    },
    "tags": []
   },
   "source": [
    "### Bluetooth and Price range"
   ]
  },
  {
   "cell_type": "code",
   "execution_count": 12,
   "metadata": {
    "execution": {
     "iopub.execute_input": "2021-01-10T11:47:08.705600Z",
     "iopub.status.busy": "2021-01-10T11:47:08.704946Z",
     "iopub.status.idle": "2021-01-10T11:47:08.824903Z",
     "shell.execute_reply": "2021-01-10T11:47:08.825524Z"
    },
    "papermill": {
     "duration": 0.183033,
     "end_time": "2021-01-10T11:47:08.825679",
     "exception": false,
     "start_time": "2021-01-10T11:47:08.642646",
     "status": "completed"
    },
    "tags": []
   },
   "outputs": [
    {
     "data": {
      "image/png": "[encoded data removed]",
      "text/plain": [
       "<Figure size 432x288 with 1 Axes>"
      ]
     },
     "metadata": {
      "needs_background": "light"
     },
     "output_type": "display_data"
    }
   ],
   "source": [
    "sns.countplot(x='blue',data=df)\n",
    "plt.show()"
   ]
  },
  {
   "cell_type": "code",
   "execution_count": 13,
   "metadata": {
    "execution": {
     "iopub.execute_input": "2021-01-10T11:47:08.945468Z",
     "iopub.status.busy": "2021-01-10T11:47:08.944821Z",
     "iopub.status.idle": "2021-01-10T11:47:09.118227Z",
     "shell.execute_reply": "2021-01-10T11:47:09.117647Z"
    },
    "papermill": {
     "duration": 0.233646,
     "end_time": "2021-01-10T11:47:09.118354",
     "exception": false,
     "start_time": "2021-01-10T11:47:08.884708",
     "status": "completed"
    },
    "tags": []
   },
   "outputs": [
    {
     "data": {
      "image/png": "[encoded data removed]",
      "text/plain": [
       "<Figure size 432x288 with 1 Axes>"
      ]
     },
     "metadata": {
      "needs_background": "light"
     },
     "output_type": "display_data"
    }
   ],
   "source": [
    "# in this case, having or not having bluetooth cant predict the price_range\n",
    "\n",
    "sns.countplot(x='blue',hue='price_range',data=df)\n",
    "plt.show()"
   ]
  },
  {
   "cell_type": "markdown",
   "metadata": {
    "papermill": {
     "duration": 0.058468,
     "end_time": "2021-01-10T11:47:09.236571",
     "exception": false,
     "start_time": "2021-01-10T11:47:09.178103",
     "status": "completed"
    },
    "tags": []
   },
   "source": [
    "### Dual sim feature and Phone range"
   ]
  },
  {
   "cell_type": "code",
   "execution_count": 14,
   "metadata": {
    "execution": {
     "iopub.execute_input": "2021-01-10T11:47:09.359522Z",
     "iopub.status.busy": "2021-01-10T11:47:09.358870Z",
     "iopub.status.idle": "2021-01-10T11:47:09.481103Z",
     "shell.execute_reply": "2021-01-10T11:47:09.480491Z"
    },
    "papermill": {
     "duration": 0.185483,
     "end_time": "2021-01-10T11:47:09.481218",
     "exception": false,
     "start_time": "2021-01-10T11:47:09.295735",
     "status": "completed"
    },
    "tags": []
   },
   "outputs": [
    {
     "data": {
      "image/png": "[encoded data removed]",
      "text/plain": [
       "<Figure size 432x288 with 1 Axes>"
      ]
     },
     "metadata": {
      "needs_background": "light"
     },
     "output_type": "display_data"
    }
   ],
   "source": [
    "sns.countplot(x='dual_sim',data=df)\n",
    "plt.show()"
   ]
  },
  {
   "cell_type": "code",
   "execution_count": 15,
   "metadata": {
    "execution": {
     "iopub.execute_input": "2021-01-10T11:47:09.605705Z",
     "iopub.status.busy": "2021-01-10T11:47:09.604623Z",
     "iopub.status.idle": "2021-01-10T11:47:09.777605Z",
     "shell.execute_reply": "2021-01-10T11:47:09.776889Z"
    },
    "papermill": {
     "duration": 0.238088,
     "end_time": "2021-01-10T11:47:09.777726",
     "exception": false,
     "start_time": "2021-01-10T11:47:09.539638",
     "status": "completed"
    },
    "tags": []
   },
   "outputs": [
    {
     "data": {
      "image/png": "[encoded data removed]",
      "text/plain": [
       "<Figure size 432x288 with 1 Axes>"
      ]
     },
     "metadata": {
      "needs_background": "light"
     },
     "output_type": "display_data"
    }
   ],
   "source": [
    "# the distribution of price ranges in phone with and without dual sim feature are equal hence \n",
    "# it is too hard to classify the price range\n",
    "\n",
    "sns.countplot(x='dual_sim',hue='price_range',data=df)\n",
    "plt.show()"
   ]
  },
  {
   "cell_type": "markdown",
   "metadata": {
    "papermill": {
     "duration": 0.066168,
     "end_time": "2021-01-10T11:47:09.903826",
     "exception": false,
     "start_time": "2021-01-10T11:47:09.837658",
     "status": "completed"
    },
    "tags": []
   },
   "source": [
    "### phone is 4g and price range"
   ]
  },
  {
   "cell_type": "code",
   "execution_count": 16,
   "metadata": {
    "execution": {
     "iopub.execute_input": "2021-01-10T11:47:10.034415Z",
     "iopub.status.busy": "2021-01-10T11:47:10.033655Z",
     "iopub.status.idle": "2021-01-10T11:47:10.150470Z",
     "shell.execute_reply": "2021-01-10T11:47:10.149626Z"
    },
    "papermill": {
     "duration": 0.18617,
     "end_time": "2021-01-10T11:47:10.150639",
     "exception": false,
     "start_time": "2021-01-10T11:47:09.964469",
     "status": "completed"
    },
    "tags": []
   },
   "outputs": [
    {
     "data": {
      "image/png": "[encoded data removed]",
      "text/plain": [
       "<Figure size 432x288 with 1 Axes>"
      ]
     },
     "metadata": {
      "needs_background": "light"
     },
     "output_type": "display_data"
    }
   ],
   "source": [
    "sns.countplot(x='four_g',data=df)\n",
    "plt.show()"
   ]
  },
  {
   "cell_type": "code",
   "execution_count": 17,
   "metadata": {
    "execution": {
     "iopub.execute_input": "2021-01-10T11:47:10.280527Z",
     "iopub.status.busy": "2021-01-10T11:47:10.279525Z",
     "iopub.status.idle": "2021-01-10T11:47:10.458493Z",
     "shell.execute_reply": "2021-01-10T11:47:10.457913Z"
    },
    "papermill": {
     "duration": 0.246484,
     "end_time": "2021-01-10T11:47:10.458605",
     "exception": false,
     "start_time": "2021-01-10T11:47:10.212121",
     "status": "completed"
    },
    "tags": []
   },
   "outputs": [
    {
     "data": {
      "image/png": "[encoded data removed]",
      "text/plain": [
       "<Figure size 432x288 with 1 Axes>"
      ]
     },
     "metadata": {
      "needs_background": "light"
     },
     "output_type": "display_data"
    }
   ],
   "source": [
    "# same case as above\n",
    "\n",
    "sns.countplot(x='four_g',hue='price_range',data=df)\n",
    "plt.show()"
   ]
  },
  {
   "cell_type": "markdown",
   "metadata": {
    "papermill": {
     "duration": 0.060546,
     "end_time": "2021-01-10T11:47:10.581658",
     "exception": false,
     "start_time": "2021-01-10T11:47:10.521112",
     "status": "completed"
    },
    "tags": []
   },
   "source": [
    "### Number of core processors and price range"
   ]
  },
  {
   "cell_type": "code",
   "execution_count": 18,
   "metadata": {
    "execution": {
     "iopub.execute_input": "2021-01-10T11:47:10.712513Z",
     "iopub.status.busy": "2021-01-10T11:47:10.708674Z",
     "iopub.status.idle": "2021-01-10T11:47:10.865892Z",
     "shell.execute_reply": "2021-01-10T11:47:10.865358Z"
    },
    "papermill": {
     "duration": 0.223641,
     "end_time": "2021-01-10T11:47:10.866010",
     "exception": false,
     "start_time": "2021-01-10T11:47:10.642369",
     "status": "completed"
    },
    "tags": []
   },
   "outputs": [
    {
     "data": {
      "image/png": "[encoded data removed]",
      "text/plain": [
       "<Figure size 432x288 with 1 Axes>"
      ]
     },
     "metadata": {
      "needs_background": "light"
     },
     "output_type": "display_data"
    }
   ],
   "source": [
    "sns.countplot(x='n_cores',data=df)\n",
    "plt.show()"
   ]
  },
  {
   "cell_type": "code",
   "execution_count": 19,
   "metadata": {
    "execution": {
     "iopub.execute_input": "2021-01-10T11:47:11.007985Z",
     "iopub.status.busy": "2021-01-10T11:47:11.007304Z",
     "iopub.status.idle": "2021-01-10T11:47:12.496275Z",
     "shell.execute_reply": "2021-01-10T11:47:12.495655Z"
    },
    "papermill": {
     "duration": 1.565949,
     "end_time": "2021-01-10T11:47:12.496388",
     "exception": false,
     "start_time": "2021-01-10T11:47:10.930439",
     "status": "completed"
    },
    "tags": []
   },
   "outputs": [
    {
     "data": {
      "image/png": "[encoded data removed]",
      "text/plain": [
       "<Figure size 864x432 with 8 Axes>"
      ]
     },
     "metadata": {
      "needs_background": "light"
     },
     "output_type": "display_data"
    }
   ],
   "source": [
    "n_cores = sns.FacetGrid(df, col = \"n_cores\",hue='n_cores',col_wrap=4)\n",
    "n_cores.map(sns.countplot,'price_range',order=[0,1,2,3])\n",
    "plt.show()"
   ]
  },
  {
   "cell_type": "markdown",
   "metadata": {
    "papermill": {
     "duration": 0.063966,
     "end_time": "2021-01-10T11:47:12.624238",
     "exception": false,
     "start_time": "2021-01-10T11:47:12.560272",
     "status": "completed"
    },
    "tags": []
   },
   "source": [
    "### Phone is 3g and price range"
   ]
  },
  {
   "cell_type": "code",
   "execution_count": 20,
   "metadata": {
    "execution": {
     "iopub.execute_input": "2021-01-10T11:47:12.757963Z",
     "iopub.status.busy": "2021-01-10T11:47:12.756269Z",
     "iopub.status.idle": "2021-01-10T11:47:12.882776Z",
     "shell.execute_reply": "2021-01-10T11:47:12.882143Z"
    },
    "papermill": {
     "duration": 0.195139,
     "end_time": "2021-01-10T11:47:12.883146",
     "exception": false,
     "start_time": "2021-01-10T11:47:12.688007",
     "status": "completed"
    },
    "tags": []
   },
   "outputs": [
    {
     "data": {
      "image/png": "[encoded data removed]",
      "text/plain": [
       "<Figure size 432x288 with 1 Axes>"
      ]
     },
     "metadata": {
      "needs_background": "light"
     },
     "output_type": "display_data"
    }
   ],
   "source": [
    "sns.countplot(x='three_g',data=df)\n",
    "plt.show()"
   ]
  },
  {
   "cell_type": "code",
   "execution_count": 21,
   "metadata": {
    "execution": {
     "iopub.execute_input": "2021-01-10T11:47:13.018463Z",
     "iopub.status.busy": "2021-01-10T11:47:13.017433Z",
     "iopub.status.idle": "2021-01-10T11:47:13.197505Z",
     "shell.execute_reply": "2021-01-10T11:47:13.196817Z"
    },
    "papermill": {
     "duration": 0.250282,
     "end_time": "2021-01-10T11:47:13.197635",
     "exception": false,
     "start_time": "2021-01-10T11:47:12.947353",
     "status": "completed"
    },
    "tags": []
   },
   "outputs": [
    {
     "data": {
      "image/png": "[encoded data removed]",
      "text/plain": [
       "<Figure size 432x288 with 1 Axes>"
      ]
     },
     "metadata": {
      "needs_background": "light"
     },
     "output_type": "display_data"
    }
   ],
   "source": [
    "# distribution of price range is also equal\n",
    "\n",
    "sns.countplot(x='three_g',hue='price_range',data=df)\n",
    "plt.show()"
   ]
  },
  {
   "cell_type": "markdown",
   "metadata": {
    "papermill": {
     "duration": 0.065015,
     "end_time": "2021-01-10T11:47:13.329987",
     "exception": false,
     "start_time": "2021-01-10T11:47:13.264972",
     "status": "completed"
    },
    "tags": []
   },
   "source": [
    "### Touchscreen phone and price range"
   ]
  },
  {
   "cell_type": "code",
   "execution_count": 22,
   "metadata": {
    "execution": {
     "iopub.execute_input": "2021-01-10T11:47:13.474111Z",
     "iopub.status.busy": "2021-01-10T11:47:13.468454Z",
     "iopub.status.idle": "2021-01-10T11:47:13.588209Z",
     "shell.execute_reply": "2021-01-10T11:47:13.587557Z"
    },
    "papermill": {
     "duration": 0.191502,
     "end_time": "2021-01-10T11:47:13.588341",
     "exception": false,
     "start_time": "2021-01-10T11:47:13.396839",
     "status": "completed"
    },
    "tags": []
   },
   "outputs": [
    {
     "data": {
      "image/png": "[encoded data removed]",
      "text/plain": [
       "<Figure size 432x288 with 1 Axes>"
      ]
     },
     "metadata": {
      "needs_background": "light"
     },
     "output_type": "display_data"
    }
   ],
   "source": [
    "sns.countplot(x='touch_screen',data=df)\n",
    "plt.show()"
   ]
  },
  {
   "cell_type": "code",
   "execution_count": 23,
   "metadata": {
    "execution": {
     "iopub.execute_input": "2021-01-10T11:47:13.731474Z",
     "iopub.status.busy": "2021-01-10T11:47:13.727751Z",
     "iopub.status.idle": "2021-01-10T11:47:13.898188Z",
     "shell.execute_reply": "2021-01-10T11:47:13.898695Z"
    },
    "papermill": {
     "duration": 0.24487,
     "end_time": "2021-01-10T11:47:13.898871",
     "exception": false,
     "start_time": "2021-01-10T11:47:13.654001",
     "status": "completed"
    },
    "tags": []
   },
   "outputs": [
    {
     "data": {
      "image/png": "[encoded data removed]",
      "text/plain": [
       "<Figure size 432x288 with 1 Axes>"
      ]
     },
     "metadata": {
      "needs_background": "light"
     },
     "output_type": "display_data"
    }
   ],
   "source": [
    "sns.countplot(x='touch_screen',hue='price_range',data=df)\n",
    "plt.show()"
   ]
  },
  {
   "cell_type": "markdown",
   "metadata": {
    "papermill": {
     "duration": 0.067307,
     "end_time": "2021-01-10T11:47:14.034457",
     "exception": false,
     "start_time": "2021-01-10T11:47:13.967150",
     "status": "completed"
    },
    "tags": []
   },
   "source": [
    "### Wifi and Price range"
   ]
  },
  {
   "cell_type": "code",
   "execution_count": 24,
   "metadata": {
    "execution": {
     "iopub.execute_input": "2021-01-10T11:47:14.176951Z",
     "iopub.status.busy": "2021-01-10T11:47:14.176117Z",
     "iopub.status.idle": "2021-01-10T11:47:14.301956Z",
     "shell.execute_reply": "2021-01-10T11:47:14.301172Z"
    },
    "papermill": {
     "duration": 0.197517,
     "end_time": "2021-01-10T11:47:14.302085",
     "exception": false,
     "start_time": "2021-01-10T11:47:14.104568",
     "status": "completed"
    },
    "tags": []
   },
   "outputs": [
    {
     "data": {
      "image/png": "[encoded data removed]",
      "text/plain": [
       "<Figure size 432x288 with 1 Axes>"
      ]
     },
     "metadata": {
      "needs_background": "light"
     },
     "output_type": "display_data"
    }
   ],
   "source": [
    "sns.countplot(x='wifi',data=df)\n",
    "plt.show()"
   ]
  },
  {
   "cell_type": "code",
   "execution_count": 25,
   "metadata": {
    "execution": {
     "iopub.execute_input": "2021-01-10T11:47:14.446646Z",
     "iopub.status.busy": "2021-01-10T11:47:14.445617Z",
     "iopub.status.idle": "2021-01-10T11:47:14.621360Z",
     "shell.execute_reply": "2021-01-10T11:47:14.621996Z"
    },
    "papermill": {
     "duration": 0.251086,
     "end_time": "2021-01-10T11:47:14.622159",
     "exception": false,
     "start_time": "2021-01-10T11:47:14.371073",
     "status": "completed"
    },
    "tags": []
   },
   "outputs": [
    {
     "data": {
      "image/png": "[encoded data removed]",
      "text/plain": [
       "<Figure size 432x288 with 1 Axes>"
      ]
     },
     "metadata": {
      "needs_background": "light"
     },
     "output_type": "display_data"
    }
   ],
   "source": [
    "sns.countplot(x='wifi',hue='price_range',data=df)\n",
    "plt.show()"
   ]
  },
  {
   "cell_type": "markdown",
   "metadata": {
    "papermill": {
     "duration": 0.069095,
     "end_time": "2021-01-10T11:47:14.767530",
     "exception": false,
     "start_time": "2021-01-10T11:47:14.698435",
     "status": "completed"
    },
    "tags": []
   },
   "source": [
    "## Top 5 features with highest correlation to target variable"
   ]
  },
  {
   "cell_type": "code",
   "execution_count": 26,
   "metadata": {
    "execution": {
     "iopub.execute_input": "2021-01-10T11:47:14.918670Z",
     "iopub.status.busy": "2021-01-10T11:47:14.917777Z",
     "iopub.status.idle": "2021-01-10T11:47:15.557034Z",
     "shell.execute_reply": "2021-01-10T11:47:15.556339Z"
    },
    "papermill": {
     "duration": 0.720928,
     "end_time": "2021-01-10T11:47:15.557146",
     "exception": false,
     "start_time": "2021-01-10T11:47:14.836218",
     "status": "completed"
    },
    "tags": []
   },
   "outputs": [
    {
     "data": {
      "image/png": "[encoded data removed]",
      "text/plain": [
       "<Figure size 1080x432 with 2 Axes>"
      ]
     },
     "metadata": {
      "needs_background": "light"
     },
     "output_type": "display_data"
    },
    {
     "data": {
      "image/png": "[encoded data removed]",
      "text/plain": [
       "<Figure size 1080x288 with 3 Axes>"
      ]
     },
     "metadata": {
      "needs_background": "light"
     },
     "output_type": "display_data"
    }
   ],
   "source": [
    "fig,ax = plt.subplots(nrows=1,ncols=2,figsize=(15,6))\n",
    "sns.boxplot(y='ram',data=df,width=0.4,ax=ax[0])\n",
    "sns.boxplot(y='battery_power',data=df,width=0.4,ax=ax[1],color='red')\n",
    "ax[0].set_title('Ram')\n",
    "ax[1].set_title('Battery power')\n",
    "fig,ax = plt.subplots(nrows=1,ncols=3,figsize=(15,4))\n",
    "sns.boxplot(y='px_width',data=df,width=0.4,ax=ax[0],color='green')\n",
    "sns.boxplot(y='px_height',data=df,width=0.4,ax=ax[1],color='yellow')\n",
    "sns.boxplot(y='int_memory',data=df,width=0.4,ax=ax[2],color='violet')\n",
    "ax[0].set_title('Pixel resolution width')\n",
    "ax[1].set_title('Pixel resolution height')\n",
    "ax[2].set_title('Internal Memory (GB)')\n",
    "plt.show()"
   ]
  },
  {
   "cell_type": "code",
   "execution_count": 27,
   "metadata": {
    "execution": {
     "iopub.execute_input": "2021-01-10T11:47:15.710007Z",
     "iopub.status.busy": "2021-01-10T11:47:15.707909Z",
     "iopub.status.idle": "2021-01-10T11:47:15.737638Z",
     "shell.execute_reply": "2021-01-10T11:47:15.736969Z"
    },
    "papermill": {
     "duration": 0.110216,
     "end_time": "2021-01-10T11:47:15.737754",
     "exception": false,
     "start_time": "2021-01-10T11:47:15.627538",
     "status": "completed"
    },
    "tags": []
   },
   "outputs": [
    {
     "data": {
      "text/html": [
       "<div>\n",
       "<style scoped>\n",
       "    .dataframe tbody tr th:only-of-type {\n",
       "        vertical-align: middle;\n",
       "    }\n",
       "\n",
       "    .dataframe tbody tr th {\n",
       "        vertical-align: top;\n",
       "    }\n",
       "\n",
       "    .dataframe thead th {\n",
       "        text-align: right;\n",
       "    }\n",
       "</style>\n",
       "<table border=\"1\" class=\"dataframe\">\n",
       "  <thead>\n",
       "    <tr style=\"text-align: right;\">\n",
       "      <th></th>\n",
       "      <th>count</th>\n",
       "      <th>mean</th>\n",
       "      <th>std</th>\n",
       "      <th>min</th>\n",
       "      <th>25%</th>\n",
       "      <th>50%</th>\n",
       "      <th>75%</th>\n",
       "      <th>max</th>\n",
       "    </tr>\n",
       "  </thead>\n",
       "  <tbody>\n",
       "    <tr>\n",
       "      <th>ram</th>\n",
       "      <td>2000.0</td>\n",
       "      <td>2124.2130</td>\n",
       "      <td>1084.732044</td>\n",
       "      <td>256.0</td>\n",
       "      <td>1207.50</td>\n",
       "      <td>2146.5</td>\n",
       "      <td>3064.50</td>\n",
       "      <td>3998.0</td>\n",
       "    </tr>\n",
       "    <tr>\n",
       "      <th>battery_power</th>\n",
       "      <td>2000.0</td>\n",
       "      <td>1238.5185</td>\n",
       "      <td>439.418206</td>\n",
       "      <td>501.0</td>\n",
       "      <td>851.75</td>\n",
       "      <td>1226.0</td>\n",
       "      <td>1615.25</td>\n",
       "      <td>1998.0</td>\n",
       "    </tr>\n",
       "    <tr>\n",
       "      <th>px_width</th>\n",
       "      <td>2000.0</td>\n",
       "      <td>1251.5155</td>\n",
       "      <td>432.199447</td>\n",
       "      <td>500.0</td>\n",
       "      <td>874.75</td>\n",
       "      <td>1247.0</td>\n",
       "      <td>1633.00</td>\n",
       "      <td>1998.0</td>\n",
       "    </tr>\n",
       "    <tr>\n",
       "      <th>px_height</th>\n",
       "      <td>2000.0</td>\n",
       "      <td>645.1080</td>\n",
       "      <td>443.780811</td>\n",
       "      <td>0.0</td>\n",
       "      <td>282.75</td>\n",
       "      <td>564.0</td>\n",
       "      <td>947.25</td>\n",
       "      <td>1960.0</td>\n",
       "    </tr>\n",
       "    <tr>\n",
       "      <th>int_memory</th>\n",
       "      <td>2000.0</td>\n",
       "      <td>32.0465</td>\n",
       "      <td>18.145715</td>\n",
       "      <td>2.0</td>\n",
       "      <td>16.00</td>\n",
       "      <td>32.0</td>\n",
       "      <td>48.00</td>\n",
       "      <td>64.0</td>\n",
       "    </tr>\n",
       "  </tbody>\n",
       "</table>\n",
       "</div>"
      ],
      "text/plain": [
       "                count       mean          std    min      25%     50%  \\\n",
       "ram            2000.0  2124.2130  1084.732044  256.0  1207.50  2146.5   \n",
       "battery_power  2000.0  1238.5185   439.418206  501.0   851.75  1226.0   \n",
       "px_width       2000.0  1251.5155   432.199447  500.0   874.75  1247.0   \n",
       "px_height      2000.0   645.1080   443.780811    0.0   282.75   564.0   \n",
       "int_memory     2000.0    32.0465    18.145715    2.0    16.00    32.0   \n",
       "\n",
       "                   75%     max  \n",
       "ram            3064.50  3998.0  \n",
       "battery_power  1615.25  1998.0  \n",
       "px_width       1633.00  1998.0  \n",
       "px_height       947.25  1960.0  \n",
       "int_memory       48.00    64.0  "
      ]
     },
     "execution_count": 27,
     "metadata": {},
     "output_type": "execute_result"
    }
   ],
   "source": [
    "# we can see the minimum pixel resolution in height is 0\n",
    "df[['ram','battery_power','px_width','px_height','int_memory']].describe().T"
   ]
  },
  {
   "cell_type": "code",
   "execution_count": 28,
   "metadata": {
    "execution": {
     "iopub.execute_input": "2021-01-10T11:47:15.886310Z",
     "iopub.status.busy": "2021-01-10T11:47:15.885579Z",
     "iopub.status.idle": "2021-01-10T11:47:15.888560Z",
     "shell.execute_reply": "2021-01-10T11:47:15.889089Z"
    },
    "papermill": {
     "duration": 0.080852,
     "end_time": "2021-01-10T11:47:15.889279",
     "exception": false,
     "start_time": "2021-01-10T11:47:15.808427",
     "status": "completed"
    },
    "tags": []
   },
   "outputs": [],
   "source": [
    "# we will drop all the rows with px_height less than 75\n",
    "df1 = df[df['px_height']>75]"
   ]
  },
  {
   "cell_type": "markdown",
   "metadata": {
    "papermill": {
     "duration": 0.070467,
     "end_time": "2021-01-10T11:47:16.031012",
     "exception": false,
     "start_time": "2021-01-10T11:47:15.960545",
     "status": "completed"
    },
    "tags": []
   },
   "source": [
    "# Model building\n",
    "\n",
    "* Considering the top five features with high correlation to target variable\n",
    "* Excluded categorical value since most of them have equal distribution for price ranges"
   ]
  },
  {
   "cell_type": "code",
   "execution_count": 29,
   "metadata": {
    "execution": {
     "iopub.execute_input": "2021-01-10T11:47:16.180679Z",
     "iopub.status.busy": "2021-01-10T11:47:16.179753Z",
     "iopub.status.idle": "2021-01-10T11:47:16.183279Z",
     "shell.execute_reply": "2021-01-10T11:47:16.182609Z"
    },
    "papermill": {
     "duration": 0.081584,
     "end_time": "2021-01-10T11:47:16.183393",
     "exception": false,
     "start_time": "2021-01-10T11:47:16.101809",
     "status": "completed"
    },
    "tags": []
   },
   "outputs": [],
   "source": [
    "df2 = df1[['ram','battery_power','px_width','px_height','int_memory','price_range']]"
   ]
  },
  {
   "cell_type": "code",
   "execution_count": 30,
   "metadata": {
    "execution": {
     "iopub.execute_input": "2021-01-10T11:47:16.336047Z",
     "iopub.status.busy": "2021-01-10T11:47:16.334991Z",
     "iopub.status.idle": "2021-01-10T11:47:16.339059Z",
     "shell.execute_reply": "2021-01-10T11:47:16.339730Z"
    },
    "papermill": {
     "duration": 0.084109,
     "end_time": "2021-01-10T11:47:16.339921",
     "exception": false,
     "start_time": "2021-01-10T11:47:16.255812",
     "status": "completed"
    },
    "tags": []
   },
   "outputs": [
    {
     "data": {
      "text/plain": [
       "(1895, 6)"
      ]
     },
     "execution_count": 30,
     "metadata": {},
     "output_type": "execute_result"
    }
   ],
   "source": [
    "df2.shape"
   ]
  },
  {
   "cell_type": "code",
   "execution_count": 31,
   "metadata": {
    "_cell_guid": "79c7e3d0-c299-4dcb-8224-4455121ee9b0",
    "_uuid": "d629ff2d2480ee46fbb7e2d37f6b5fab8052498a",
    "execution": {
     "iopub.execute_input": "2021-01-10T11:47:16.488151Z",
     "iopub.status.busy": "2021-01-10T11:47:16.487175Z",
     "iopub.status.idle": "2021-01-10T11:47:16.498233Z",
     "shell.execute_reply": "2021-01-10T11:47:16.498830Z"
    },
    "papermill": {
     "duration": 0.086997,
     "end_time": "2021-01-10T11:47:16.498981",
     "exception": false,
     "start_time": "2021-01-10T11:47:16.411984",
     "status": "completed"
    },
    "tags": []
   },
   "outputs": [
    {
     "data": {
      "text/html": [
       "<div>\n",
       "<style scoped>\n",
       "    .dataframe tbody tr th:only-of-type {\n",
       "        vertical-align: middle;\n",
       "    }\n",
       "\n",
       "    .dataframe tbody tr th {\n",
       "        vertical-align: top;\n",
       "    }\n",
       "\n",
       "    .dataframe thead th {\n",
       "        text-align: right;\n",
       "    }\n",
       "</style>\n",
       "<table border=\"1\" class=\"dataframe\">\n",
       "  <thead>\n",
       "    <tr style=\"text-align: right;\">\n",
       "      <th></th>\n",
       "      <th>ram</th>\n",
       "      <th>battery_power</th>\n",
       "      <th>px_width</th>\n",
       "      <th>px_height</th>\n",
       "      <th>int_memory</th>\n",
       "      <th>price_range</th>\n",
       "    </tr>\n",
       "  </thead>\n",
       "  <tbody>\n",
       "    <tr>\n",
       "      <th>1</th>\n",
       "      <td>2631</td>\n",
       "      <td>1021</td>\n",
       "      <td>1988</td>\n",
       "      <td>905</td>\n",
       "      <td>53</td>\n",
       "      <td>2</td>\n",
       "    </tr>\n",
       "    <tr>\n",
       "      <th>2</th>\n",
       "      <td>2603</td>\n",
       "      <td>563</td>\n",
       "      <td>1716</td>\n",
       "      <td>1263</td>\n",
       "      <td>41</td>\n",
       "      <td>2</td>\n",
       "    </tr>\n",
       "    <tr>\n",
       "      <th>3</th>\n",
       "      <td>2769</td>\n",
       "      <td>615</td>\n",
       "      <td>1786</td>\n",
       "      <td>1216</td>\n",
       "      <td>10</td>\n",
       "      <td>2</td>\n",
       "    </tr>\n",
       "    <tr>\n",
       "      <th>4</th>\n",
       "      <td>1411</td>\n",
       "      <td>1821</td>\n",
       "      <td>1212</td>\n",
       "      <td>1208</td>\n",
       "      <td>44</td>\n",
       "      <td>1</td>\n",
       "    </tr>\n",
       "    <tr>\n",
       "      <th>5</th>\n",
       "      <td>1067</td>\n",
       "      <td>1859</td>\n",
       "      <td>1654</td>\n",
       "      <td>1004</td>\n",
       "      <td>22</td>\n",
       "      <td>1</td>\n",
       "    </tr>\n",
       "  </tbody>\n",
       "</table>\n",
       "</div>"
      ],
      "text/plain": [
       "    ram  battery_power  px_width  px_height  int_memory  price_range\n",
       "1  2631           1021      1988        905          53            2\n",
       "2  2603            563      1716       1263          41            2\n",
       "3  2769            615      1786       1216          10            2\n",
       "4  1411           1821      1212       1208          44            1\n",
       "5  1067           1859      1654       1004          22            1"
      ]
     },
     "execution_count": 31,
     "metadata": {},
     "output_type": "execute_result"
    }
   ],
   "source": [
    "df2.head()"
   ]
  },
  {
   "cell_type": "markdown",
   "metadata": {
    "papermill": {
     "duration": 0.072867,
     "end_time": "2021-01-10T11:47:16.645369",
     "exception": false,
     "start_time": "2021-01-10T11:47:16.572502",
     "status": "completed"
    },
    "tags": []
   },
   "source": [
    "## Separate independent variable to target variable"
   ]
  },
  {
   "cell_type": "code",
   "execution_count": 32,
   "metadata": {
    "execution": {
     "iopub.execute_input": "2021-01-10T11:47:16.798767Z",
     "iopub.status.busy": "2021-01-10T11:47:16.798102Z",
     "iopub.status.idle": "2021-01-10T11:47:16.801500Z",
     "shell.execute_reply": "2021-01-10T11:47:16.800825Z"
    },
    "papermill": {
     "duration": 0.084326,
     "end_time": "2021-01-10T11:47:16.801613",
     "exception": false,
     "start_time": "2021-01-10T11:47:16.717287",
     "status": "completed"
    },
    "tags": []
   },
   "outputs": [],
   "source": [
    "X = df2.drop(['price_range'],axis=1)\n",
    "y = df2['price_range']"
   ]
  },
  {
   "cell_type": "code",
   "execution_count": 33,
   "metadata": {
    "execution": {
     "iopub.execute_input": "2021-01-10T11:47:16.957581Z",
     "iopub.status.busy": "2021-01-10T11:47:16.956561Z",
     "iopub.status.idle": "2021-01-10T11:47:16.961311Z",
     "shell.execute_reply": "2021-01-10T11:47:16.960634Z"
    },
    "papermill": {
     "duration": 0.086983,
     "end_time": "2021-01-10T11:47:16.961423",
     "exception": false,
     "start_time": "2021-01-10T11:47:16.874440",
     "status": "completed"
    },
    "tags": []
   },
   "outputs": [
    {
     "data": {
      "text/html": [
       "<div>\n",
       "<style scoped>\n",
       "    .dataframe tbody tr th:only-of-type {\n",
       "        vertical-align: middle;\n",
       "    }\n",
       "\n",
       "    .dataframe tbody tr th {\n",
       "        vertical-align: top;\n",
       "    }\n",
       "\n",
       "    .dataframe thead th {\n",
       "        text-align: right;\n",
       "    }\n",
       "</style>\n",
       "<table border=\"1\" class=\"dataframe\">\n",
       "  <thead>\n",
       "    <tr style=\"text-align: right;\">\n",
       "      <th></th>\n",
       "      <th>ram</th>\n",
       "      <th>battery_power</th>\n",
       "      <th>px_width</th>\n",
       "      <th>px_height</th>\n",
       "      <th>int_memory</th>\n",
       "    </tr>\n",
       "  </thead>\n",
       "  <tbody>\n",
       "    <tr>\n",
       "      <th>1</th>\n",
       "      <td>2631</td>\n",
       "      <td>1021</td>\n",
       "      <td>1988</td>\n",
       "      <td>905</td>\n",
       "      <td>53</td>\n",
       "    </tr>\n",
       "    <tr>\n",
       "      <th>2</th>\n",
       "      <td>2603</td>\n",
       "      <td>563</td>\n",
       "      <td>1716</td>\n",
       "      <td>1263</td>\n",
       "      <td>41</td>\n",
       "    </tr>\n",
       "    <tr>\n",
       "      <th>3</th>\n",
       "      <td>2769</td>\n",
       "      <td>615</td>\n",
       "      <td>1786</td>\n",
       "      <td>1216</td>\n",
       "      <td>10</td>\n",
       "    </tr>\n",
       "    <tr>\n",
       "      <th>4</th>\n",
       "      <td>1411</td>\n",
       "      <td>1821</td>\n",
       "      <td>1212</td>\n",
       "      <td>1208</td>\n",
       "      <td>44</td>\n",
       "    </tr>\n",
       "    <tr>\n",
       "      <th>5</th>\n",
       "      <td>1067</td>\n",
       "      <td>1859</td>\n",
       "      <td>1654</td>\n",
       "      <td>1004</td>\n",
       "      <td>22</td>\n",
       "    </tr>\n",
       "  </tbody>\n",
       "</table>\n",
       "</div>"
      ],
      "text/plain": [
       "    ram  battery_power  px_width  px_height  int_memory\n",
       "1  2631           1021      1988        905          53\n",
       "2  2603            563      1716       1263          41\n",
       "3  2769            615      1786       1216          10\n",
       "4  1411           1821      1212       1208          44\n",
       "5  1067           1859      1654       1004          22"
      ]
     },
     "execution_count": 33,
     "metadata": {},
     "output_type": "execute_result"
    }
   ],
   "source": [
    "X.head()"
   ]
  },
  {
   "cell_type": "code",
   "execution_count": 34,
   "metadata": {
    "execution": {
     "iopub.execute_input": "2021-01-10T11:47:17.114975Z",
     "iopub.status.busy": "2021-01-10T11:47:17.113901Z",
     "iopub.status.idle": "2021-01-10T11:47:17.118309Z",
     "shell.execute_reply": "2021-01-10T11:47:17.117667Z"
    },
    "papermill": {
     "duration": 0.083269,
     "end_time": "2021-01-10T11:47:17.118447",
     "exception": false,
     "start_time": "2021-01-10T11:47:17.035178",
     "status": "completed"
    },
    "tags": []
   },
   "outputs": [
    {
     "data": {
      "text/plain": [
       "1    2\n",
       "2    2\n",
       "3    2\n",
       "4    1\n",
       "5    1\n",
       "Name: price_range, dtype: int64"
      ]
     },
     "execution_count": 34,
     "metadata": {},
     "output_type": "execute_result"
    }
   ],
   "source": [
    "y.head()"
   ]
  },
  {
   "cell_type": "markdown",
   "metadata": {
    "papermill": {
     "duration": 0.075179,
     "end_time": "2021-01-10T11:47:17.268263",
     "exception": false,
     "start_time": "2021-01-10T11:47:17.193084",
     "status": "completed"
    },
    "tags": []
   },
   "source": [
    "## KNN Classfication "
   ]
  },
  {
   "cell_type": "code",
   "execution_count": 35,
   "metadata": {
    "execution": {
     "iopub.execute_input": "2021-01-10T11:47:17.421835Z",
     "iopub.status.busy": "2021-01-10T11:47:17.421187Z",
     "iopub.status.idle": "2021-01-10T11:47:17.736494Z",
     "shell.execute_reply": "2021-01-10T11:47:17.735809Z"
    },
    "papermill": {
     "duration": 0.394211,
     "end_time": "2021-01-10T11:47:17.736620",
     "exception": false,
     "start_time": "2021-01-10T11:47:17.342409",
     "status": "completed"
    },
    "tags": []
   },
   "outputs": [],
   "source": [
    "from sklearn.model_selection import GridSearchCV, ShuffleSplit, cross_val_score, train_test_split\n",
    "from sklearn.neighbors import KNeighborsClassifier\n",
    "from sklearn.preprocessing import MinMaxScaler, StandardScaler"
   ]
  },
  {
   "cell_type": "code",
   "execution_count": 36,
   "metadata": {
    "execution": {
     "iopub.execute_input": "2021-01-10T11:47:17.892368Z",
     "iopub.status.busy": "2021-01-10T11:47:17.891614Z",
     "iopub.status.idle": "2021-01-10T11:47:17.896982Z",
     "shell.execute_reply": "2021-01-10T11:47:17.896234Z"
    },
    "papermill": {
     "duration": 0.086478,
     "end_time": "2021-01-10T11:47:17.897106",
     "exception": false,
     "start_time": "2021-01-10T11:47:17.810628",
     "status": "completed"
    },
    "tags": []
   },
   "outputs": [],
   "source": [
    "X_train, X_test, y_train, y_test = train_test_split(X, y, test_size = 0.3, random_state=0)"
   ]
  },
  {
   "cell_type": "code",
   "execution_count": 37,
   "metadata": {
    "execution": {
     "iopub.execute_input": "2021-01-10T11:47:18.051874Z",
     "iopub.status.busy": "2021-01-10T11:47:18.051172Z",
     "iopub.status.idle": "2021-01-10T11:47:18.055649Z",
     "shell.execute_reply": "2021-01-10T11:47:18.054982Z"
    },
    "papermill": {
     "duration": 0.084879,
     "end_time": "2021-01-10T11:47:18.055760",
     "exception": false,
     "start_time": "2021-01-10T11:47:17.970881",
     "status": "completed"
    },
    "tags": []
   },
   "outputs": [
    {
     "name": "stdout",
     "output_type": "stream",
     "text": [
      "Length of train dataset:  1326\n",
      "Length of test dataset:  569\n"
     ]
    }
   ],
   "source": [
    "print('Length of train dataset: ',len(X_train))\n",
    "print('Length of test dataset: ',len(X_test))"
   ]
  },
  {
   "cell_type": "markdown",
   "metadata": {
    "papermill": {
     "duration": 0.074925,
     "end_time": "2021-01-10T11:47:18.205146",
     "exception": false,
     "start_time": "2021-01-10T11:47:18.130221",
     "status": "completed"
    },
    "tags": []
   },
   "source": [
    "### Scale first the data"
   ]
  },
  {
   "cell_type": "code",
   "execution_count": 38,
   "metadata": {
    "execution": {
     "iopub.execute_input": "2021-01-10T11:47:18.369433Z",
     "iopub.status.busy": "2021-01-10T11:47:18.368586Z",
     "iopub.status.idle": "2021-01-10T11:47:18.372412Z",
     "shell.execute_reply": "2021-01-10T11:47:18.371737Z"
    },
    "papermill": {
     "duration": 0.09271,
     "end_time": "2021-01-10T11:47:18.372523",
     "exception": false,
     "start_time": "2021-01-10T11:47:18.279813",
     "status": "completed"
    },
    "tags": []
   },
   "outputs": [],
   "source": [
    "scaler = StandardScaler()\n",
    "scaler.fit(X_train)\n",
    "scaled_X_train = scaler.transform(X_train)\n",
    "scaled_X_test = scaler.transform(X_test)"
   ]
  },
  {
   "cell_type": "markdown",
   "metadata": {
    "papermill": {
     "duration": 0.075069,
     "end_time": "2021-01-10T11:47:18.523197",
     "exception": false,
     "start_time": "2021-01-10T11:47:18.448128",
     "status": "completed"
    },
    "tags": []
   },
   "source": [
    "### Applying the algorithm"
   ]
  },
  {
   "cell_type": "code",
   "execution_count": 39,
   "metadata": {
    "execution": {
     "iopub.execute_input": "2021-01-10T11:47:18.680858Z",
     "iopub.status.busy": "2021-01-10T11:47:18.679585Z",
     "iopub.status.idle": "2021-01-10T11:47:18.691979Z",
     "shell.execute_reply": "2021-01-10T11:47:18.691331Z"
    },
    "papermill": {
     "duration": 0.094649,
     "end_time": "2021-01-10T11:47:18.692120",
     "exception": false,
     "start_time": "2021-01-10T11:47:18.597471",
     "status": "completed"
    },
    "tags": []
   },
   "outputs": [
    {
     "data": {
      "text/plain": [
       "KNeighborsClassifier()"
      ]
     },
     "execution_count": 39,
     "metadata": {},
     "output_type": "execute_result"
    }
   ],
   "source": [
    "knn_model = KNeighborsClassifier()\n",
    "knn_model.fit(scaled_X_train,y_train)"
   ]
  },
  {
   "cell_type": "code",
   "execution_count": 40,
   "metadata": {
    "execution": {
     "iopub.execute_input": "2021-01-10T11:47:18.850241Z",
     "iopub.status.busy": "2021-01-10T11:47:18.849557Z",
     "iopub.status.idle": "2021-01-10T11:47:18.880799Z",
     "shell.execute_reply": "2021-01-10T11:47:18.880160Z"
    },
    "papermill": {
     "duration": 0.112842,
     "end_time": "2021-01-10T11:47:18.880928",
     "exception": false,
     "start_time": "2021-01-10T11:47:18.768086",
     "status": "completed"
    },
    "tags": []
   },
   "outputs": [],
   "source": [
    "y_predicted = knn_model.predict(scaled_X_test)"
   ]
  },
  {
   "cell_type": "markdown",
   "metadata": {
    "papermill": {
     "duration": 0.075892,
     "end_time": "2021-01-10T11:47:19.033085",
     "exception": false,
     "start_time": "2021-01-10T11:47:18.957193",
     "status": "completed"
    },
    "tags": []
   },
   "source": [
    "### Confusion matrix and Classification Report"
   ]
  },
  {
   "cell_type": "code",
   "execution_count": 41,
   "metadata": {
    "execution": {
     "iopub.execute_input": "2021-01-10T11:47:19.188226Z",
     "iopub.status.busy": "2021-01-10T11:47:19.187512Z",
     "iopub.status.idle": "2021-01-10T11:47:19.193063Z",
     "shell.execute_reply": "2021-01-10T11:47:19.192485Z"
    },
    "papermill": {
     "duration": 0.084664,
     "end_time": "2021-01-10T11:47:19.193232",
     "exception": false,
     "start_time": "2021-01-10T11:47:19.108568",
     "status": "completed"
    },
    "tags": []
   },
   "outputs": [],
   "source": [
    "from sklearn.metrics import confusion_matrix, classification_report, accuracy_score"
   ]
  },
  {
   "cell_type": "code",
   "execution_count": 42,
   "metadata": {
    "execution": {
     "iopub.execute_input": "2021-01-10T11:47:19.357232Z",
     "iopub.status.busy": "2021-01-10T11:47:19.356178Z",
     "iopub.status.idle": "2021-01-10T11:47:19.367142Z",
     "shell.execute_reply": "2021-01-10T11:47:19.367948Z"
    },
    "papermill": {
     "duration": 0.098358,
     "end_time": "2021-01-10T11:47:19.368116",
     "exception": false,
     "start_time": "2021-01-10T11:47:19.269758",
     "status": "completed"
    },
    "tags": []
   },
   "outputs": [
    {
     "data": {
      "text/plain": [
       "array([[126,  13,   0,   0],\n",
       "       [ 11, 108,  18,   0],\n",
       "       [  0,  24, 115,  13],\n",
       "       [  0,   0,  19, 122]], dtype=int64)"
      ]
     },
     "execution_count": 42,
     "metadata": {},
     "output_type": "execute_result"
    }
   ],
   "source": [
    "confusion_matrix_result = confusion_matrix(y_test,y_predicted)\n",
    "confusion_matrix_result"
   ]
  },
  {
   "cell_type": "code",
   "execution_count": 43,
   "metadata": {
    "execution": {
     "iopub.execute_input": "2021-01-10T11:47:19.569558Z",
     "iopub.status.busy": "2021-01-10T11:47:19.562190Z",
     "iopub.status.idle": "2021-01-10T11:47:19.794879Z",
     "shell.execute_reply": "2021-01-10T11:47:19.794245Z"
    },
    "papermill": {
     "duration": 0.326233,
     "end_time": "2021-01-10T11:47:19.795051",
     "exception": false,
     "start_time": "2021-01-10T11:47:19.468818",
     "status": "completed"
    },
    "tags": []
   },
   "outputs": [
    {
     "data": {
      "image/png": "[encoded data removed]",
      "text/plain": [
       "<Figure size 432x288 with 2 Axes>"
      ]
     },
     "metadata": {
      "needs_background": "light"
     },
     "output_type": "display_data"
    }
   ],
   "source": [
    "sns.heatmap(confusion_matrix_result,annot=True,cmap='viridis',fmt='.0f')\n",
    "plt.show()"
   ]
  },
  {
   "cell_type": "code",
   "execution_count": 44,
   "metadata": {
    "execution": {
     "iopub.execute_input": "2021-01-10T11:47:19.953095Z",
     "iopub.status.busy": "2021-01-10T11:47:19.952410Z",
     "iopub.status.idle": "2021-01-10T11:47:19.957523Z",
     "shell.execute_reply": "2021-01-10T11:47:19.958553Z"
    },
    "papermill": {
     "duration": 0.087374,
     "end_time": "2021-01-10T11:47:19.958830",
     "exception": false,
     "start_time": "2021-01-10T11:47:19.871456",
     "status": "completed"
    },
    "tags": []
   },
   "outputs": [
    {
     "name": "stdout",
     "output_type": "stream",
     "text": [
      "KNN accuracy score:  0.827768014059754\n"
     ]
    }
   ],
   "source": [
    "print('KNN accuracy score: ',accuracy_score(y_test,y_predicted))"
   ]
  },
  {
   "cell_type": "code",
   "execution_count": 45,
   "metadata": {
    "execution": {
     "iopub.execute_input": "2021-01-10T11:47:20.119984Z",
     "iopub.status.busy": "2021-01-10T11:47:20.119271Z",
     "iopub.status.idle": "2021-01-10T11:47:20.128686Z",
     "shell.execute_reply": "2021-01-10T11:47:20.129604Z"
    },
    "papermill": {
     "duration": 0.093401,
     "end_time": "2021-01-10T11:47:20.129852",
     "exception": false,
     "start_time": "2021-01-10T11:47:20.036451",
     "status": "completed"
    },
    "tags": []
   },
   "outputs": [
    {
     "name": "stdout",
     "output_type": "stream",
     "text": [
      "              precision    recall  f1-score   support\n",
      "\n",
      "           0       0.92      0.91      0.91       139\n",
      "           1       0.74      0.79      0.77       137\n",
      "           2       0.76      0.76      0.76       152\n",
      "           3       0.90      0.87      0.88       141\n",
      "\n",
      "    accuracy                           0.83       569\n",
      "   macro avg       0.83      0.83      0.83       569\n",
      "weighted avg       0.83      0.83      0.83       569\n",
      "\n"
     ]
    }
   ],
   "source": [
    "classification_report_result = classification_report(y_test,y_predicted)\n",
    "print(classification_report_result)"
   ]
  },
  {
   "cell_type": "markdown",
   "metadata": {
    "papermill": {
     "duration": 0.082434,
     "end_time": "2021-01-10T11:47:20.300251",
     "exception": false,
     "start_time": "2021-01-10T11:47:20.217817",
     "status": "completed"
    },
    "tags": []
   },
   "source": [
    "# Find best model using GridSearchCV and with Different classification Algorithms"
   ]
  },
  {
   "cell_type": "code",
   "execution_count": 46,
   "metadata": {
    "execution": {
     "iopub.execute_input": "2021-01-10T11:47:20.480069Z",
     "iopub.status.busy": "2021-01-10T11:47:20.479227Z",
     "iopub.status.idle": "2021-01-10T11:47:20.548084Z",
     "shell.execute_reply": "2021-01-10T11:47:20.547139Z"
    },
    "papermill": {
     "duration": 0.161365,
     "end_time": "2021-01-10T11:47:20.548242",
     "exception": false,
     "start_time": "2021-01-10T11:47:20.386877",
     "status": "completed"
    },
    "tags": []
   },
   "outputs": [],
   "source": [
    "from sklearn.linear_model import LogisticRegression\n",
    "from sklearn.svm import SVC\n",
    "from sklearn.tree import DecisionTreeClassifier\n",
    "from sklearn.ensemble import RandomForestClassifier\n",
    "from sklearn.naive_bayes import GaussianNB\n",
    "from sklearn.pipeline import Pipeline, make_pipeline"
   ]
  },
  {
   "cell_type": "markdown",
   "metadata": {
    "papermill": {
     "duration": 0.077984,
     "end_time": "2021-01-10T11:47:20.711119",
     "exception": false,
     "start_time": "2021-01-10T11:47:20.633135",
     "status": "completed"
    },
    "tags": []
   },
   "source": [
    "## Logistic Regression"
   ]
  },
  {
   "cell_type": "code",
   "execution_count": 47,
   "metadata": {
    "execution": {
     "iopub.execute_input": "2021-01-10T11:47:20.879176Z",
     "iopub.status.busy": "2021-01-10T11:47:20.878315Z",
     "iopub.status.idle": "2021-01-10T11:47:23.476129Z",
     "shell.execute_reply": "2021-01-10T11:47:23.474962Z"
    },
    "papermill": {
     "duration": 2.685087,
     "end_time": "2021-01-10T11:47:23.476295",
     "exception": false,
     "start_time": "2021-01-10T11:47:20.791208",
     "status": "completed"
    },
    "tags": []
   },
   "outputs": [
    {
     "name": "stdout",
     "output_type": "stream",
     "text": [
      "Pipeline(steps=[('standardscaler', StandardScaler()),\n",
      "                ('logisticregression', LogisticRegression(C=1))])\n",
      "\n",
      "The mean accuracy using Logistic Regression is:  0.9420035149384886\n"
     ]
    },
    {
     "data": {
      "image/png": "[encoded data removed]",
      "text/plain": [
       "<Figure size 432x288 with 2 Axes>"
      ]
     },
     "metadata": {
      "needs_background": "light"
     },
     "output_type": "display_data"
    },
    {
     "name": "stdout",
     "output_type": "stream",
     "text": [
      "              precision    recall  f1-score   support\n",
      "\n",
      "           0       0.98      0.98      0.98       139\n",
      "           1       0.92      0.96      0.94       137\n",
      "           2       0.93      0.89      0.91       152\n",
      "           3       0.94      0.95      0.95       141\n",
      "\n",
      "    accuracy                           0.94       569\n",
      "   macro avg       0.94      0.94      0.94       569\n",
      "weighted avg       0.94      0.94      0.94       569\n",
      "\n"
     ]
    }
   ],
   "source": [
    "pipe = make_pipeline(StandardScaler(),LogisticRegression())\n",
    "grid_param = [\n",
    "                {\n",
    "                    'logisticregression': [LogisticRegression()],\n",
    "                    'logisticregression__C': [0.8,1,1.2]\n",
    "                }\n",
    "]\n",
    "\n",
    "# create a gridsearch of the pipeline, the fit the best model\n",
    "gridsearch = GridSearchCV(pipe, grid_param, cv=5, verbose=0,n_jobs=-1) # Fit grid search\n",
    "best_model = gridsearch.fit(X_train,y_train)\n",
    "\n",
    "print(best_model.best_estimator_)\n",
    "print('\\nThe mean accuracy using Logistic Regression is: ',best_model.score(X_test,y_test))\n",
    "y_pred = best_model.predict(X_test)\n",
    "sns.heatmap(confusion_matrix(y_test,y_pred),annot=True,cmap='viridis',fmt='.0f')\n",
    "plt.show()\n",
    "print(classification_report(y_test,y_pred))"
   ]
  },
  {
   "cell_type": "markdown",
   "metadata": {
    "papermill": {
     "duration": 0.078017,
     "end_time": "2021-01-10T11:47:23.635670",
     "exception": false,
     "start_time": "2021-01-10T11:47:23.557653",
     "status": "completed"
    },
    "tags": []
   },
   "source": [
    "## SVM"
   ]
  },
  {
   "cell_type": "code",
   "execution_count": 48,
   "metadata": {
    "execution": {
     "iopub.execute_input": "2021-01-10T11:47:23.804894Z",
     "iopub.status.busy": "2021-01-10T11:47:23.803852Z",
     "iopub.status.idle": "2021-01-10T11:48:43.534685Z",
     "shell.execute_reply": "2021-01-10T11:48:43.535543Z"
    },
    "papermill": {
     "duration": 79.820922,
     "end_time": "2021-01-10T11:48:43.535762",
     "exception": false,
     "start_time": "2021-01-10T11:47:23.714840",
     "status": "completed"
    },
    "tags": []
   },
   "outputs": [
    {
     "name": "stdout",
     "output_type": "stream",
     "text": [
      "Pipeline(steps=[('svc', SVC(kernel='linear'))])\n",
      "\n",
      "The mean accuracy using SVM is:  0.9543057996485061\n"
     ]
    },
    {
     "data": {
      "image/png": "[encoded data removed]",
      "text/plain": [
       "<Figure size 432x288 with 2 Axes>"
      ]
     },
     "metadata": {
      "needs_background": "light"
     },
     "output_type": "display_data"
    },
    {
     "name": "stdout",
     "output_type": "stream",
     "text": [
      "              precision    recall  f1-score   support\n",
      "\n",
      "           0       0.99      0.98      0.99       139\n",
      "           1       0.93      0.98      0.95       137\n",
      "           2       0.94      0.91      0.93       152\n",
      "           3       0.96      0.95      0.95       141\n",
      "\n",
      "    accuracy                           0.95       569\n",
      "   macro avg       0.95      0.96      0.95       569\n",
      "weighted avg       0.95      0.95      0.95       569\n",
      "\n"
     ]
    }
   ],
   "source": [
    "pipe = make_pipeline(SVC())\n",
    "grid_param = [\n",
    "                {\n",
    "                    'svc': [SVC()],\n",
    "                    'svc__kernel': ['linear','rbf']\n",
    "                }\n",
    "]\n",
    "\n",
    "# create a gridsearch of the pipeline, the fit the best model\n",
    "gridsearch = GridSearchCV(pipe, grid_param, cv=5, verbose=0,n_jobs=-1) # Fit grid search\n",
    "best_model = gridsearch.fit(X_train,y_train)\n",
    "\n",
    "print(best_model.best_estimator_)\n",
    "print('\\nThe mean accuracy using SVM is: ',best_model.score(X_test,y_test))\n",
    "y_pred = best_model.predict(X_test)\n",
    "sns.heatmap(confusion_matrix(y_test,y_pred),annot=True,cmap='viridis',fmt='.0f')\n",
    "plt.show()\n",
    "print(classification_report(y_test,y_pred))"
   ]
  },
  {
   "cell_type": "markdown",
   "metadata": {
    "papermill": {
     "duration": 0.07873,
     "end_time": "2021-01-10T11:48:43.695134",
     "exception": false,
     "start_time": "2021-01-10T11:48:43.616404",
     "status": "completed"
    },
    "tags": []
   },
   "source": [
    "## Decision Tree"
   ]
  },
  {
   "cell_type": "code",
   "execution_count": 49,
   "metadata": {
    "execution": {
     "iopub.execute_input": "2021-01-10T11:48:43.862836Z",
     "iopub.status.busy": "2021-01-10T11:48:43.862110Z",
     "iopub.status.idle": "2021-01-10T11:48:44.884167Z",
     "shell.execute_reply": "2021-01-10T11:48:44.885220Z"
    },
    "papermill": {
     "duration": 1.111427,
     "end_time": "2021-01-10T11:48:44.885451",
     "exception": false,
     "start_time": "2021-01-10T11:48:43.774024",
     "status": "completed"
    },
    "tags": []
   },
   "outputs": [
    {
     "name": "stdout",
     "output_type": "stream",
     "text": [
      "Pipeline(steps=[('decisiontreeclassifier',\n",
      "                 DecisionTreeClassifier(max_depth=36, min_samples_split=7,\n",
      "                                        splitter='random'))])\n",
      "\n",
      "The mean accuracy using Decision Tree is:  0.8629173989455184\n"
     ]
    },
    {
     "data": {
      "image/png": "[encoded data removed]",
      "text/plain": [
       "<Figure size 432x288 with 2 Axes>"
      ]
     },
     "metadata": {
      "needs_background": "light"
     },
     "output_type": "display_data"
    },
    {
     "name": "stdout",
     "output_type": "stream",
     "text": [
      "              precision    recall  f1-score   support\n",
      "\n",
      "           0       0.94      0.90      0.92       139\n",
      "           1       0.79      0.86      0.83       137\n",
      "           2       0.81      0.83      0.82       152\n",
      "           3       0.93      0.87      0.90       141\n",
      "\n",
      "    accuracy                           0.86       569\n",
      "   macro avg       0.87      0.86      0.86       569\n",
      "weighted avg       0.87      0.86      0.86       569\n",
      "\n"
     ]
    }
   ],
   "source": [
    "pipe = make_pipeline(DecisionTreeClassifier())\n",
    "grid_param = [\n",
    "                {\n",
    "                    'decisiontreeclassifier': [DecisionTreeClassifier()],\n",
    "                    'decisiontreeclassifier__splitter': ['best','random'],\n",
    "                    'decisiontreeclassifier__min_samples_split': range(2,20),\n",
    "                    'decisiontreeclassifier__max_depth': range(1,100,5)\n",
    "                }\n",
    "]\n",
    "\n",
    "# create a gridsearch of the pipeline, the fit the best model\n",
    "gridsearch = GridSearchCV(pipe, grid_param, cv=5, verbose=0,n_jobs=-1) # Fit grid search\n",
    "best_model = gridsearch.fit(X_train,y_train)\n",
    "\n",
    "print(best_model.best_estimator_)\n",
    "print('\\nThe mean accuracy using Decision Tree is: ',best_model.score(X_test,y_test))\n",
    "y_pred = best_model.predict(X_test)\n",
    "sns.heatmap(confusion_matrix(y_test,y_pred),annot=True,cmap='viridis',fmt='.0f')\n",
    "plt.show()\n",
    "print(classification_report(y_test,y_pred))"
   ]
  },
  {
   "cell_type": "markdown",
   "metadata": {
    "papermill": {
     "duration": 0.079314,
     "end_time": "2021-01-10T11:48:45.045259",
     "exception": false,
     "start_time": "2021-01-10T11:48:44.965945",
     "status": "completed"
    },
    "tags": []
   },
   "source": [
    "## Random Forest"
   ]
  },
  {
   "cell_type": "code",
   "execution_count": 50,
   "metadata": {
    "execution": {
     "iopub.execute_input": "2021-01-10T11:48:45.208168Z",
     "iopub.status.busy": "2021-01-10T11:48:45.207173Z",
     "iopub.status.idle": "2021-01-10T11:49:14.070423Z",
     "shell.execute_reply": "2021-01-10T11:49:14.071145Z"
    },
    "papermill": {
     "duration": 28.946189,
     "end_time": "2021-01-10T11:49:14.071309",
     "exception": false,
     "start_time": "2021-01-10T11:48:45.125120",
     "status": "completed"
    },
    "tags": []
   },
   "outputs": [
    {
     "name": "stdout",
     "output_type": "stream",
     "text": [
      "Pipeline(steps=[('randomforestclassifier',\n",
      "                 RandomForestClassifier(n_estimators=91))])\n",
      "\n",
      "The mean accuracy using Random Forest is:  0.8910369068541301\n"
     ]
    },
    {
     "data": {
      "image/png": "[encoded data removed]",
      "text/plain": [
       "<Figure size 432x288 with 2 Axes>"
      ]
     },
     "metadata": {
      "needs_background": "light"
     },
     "output_type": "display_data"
    },
    {
     "name": "stdout",
     "output_type": "stream",
     "text": [
      "              precision    recall  f1-score   support\n",
      "\n",
      "           0       0.94      0.94      0.94       139\n",
      "           1       0.85      0.88      0.86       137\n",
      "           2       0.86      0.84      0.85       152\n",
      "           3       0.92      0.91      0.91       141\n",
      "\n",
      "    accuracy                           0.89       569\n",
      "   macro avg       0.89      0.89      0.89       569\n",
      "weighted avg       0.89      0.89      0.89       569\n",
      "\n"
     ]
    }
   ],
   "source": [
    "pipe = make_pipeline(RandomForestClassifier())\n",
    "grid_param = [\n",
    "                {\n",
    "                    'randomforestclassifier': [RandomForestClassifier()],\n",
    "                    'randomforestclassifier__n_estimators': range(1,200,5),\n",
    "                    'randomforestclassifier__min_samples_split': range(2,20)\n",
    "                }\n",
    "]\n",
    "\n",
    "# create a gridsearch of the pipeline, the fit the best model\n",
    "gridsearch = GridSearchCV(pipe, grid_param, cv=5, verbose=0,n_jobs=-1) # Fit grid search\n",
    "best_model = gridsearch.fit(X_train,y_train)\n",
    "\n",
    "print(best_model.best_estimator_)\n",
    "print('\\nThe mean accuracy using Random Forest is: ',best_model.score(X_test,y_test))\n",
    "y_pred = best_model.predict(X_test)\n",
    "sns.heatmap(confusion_matrix(y_test,y_pred),annot=True,cmap='viridis',fmt='.0f')\n",
    "plt.show()\n",
    "print(classification_report(y_test,y_pred))"
   ]
  },
  {
   "cell_type": "markdown",
   "metadata": {
    "papermill": {
     "duration": 0.079557,
     "end_time": "2021-01-10T11:49:14.231316",
     "exception": false,
     "start_time": "2021-01-10T11:49:14.151759",
     "status": "completed"
    },
    "tags": []
   },
   "source": [
    "### We can see that SVM gives us the higher accuracy"
   ]
  },
  {
   "cell_type": "code",
   "execution_count": 51,
   "metadata": {
    "execution": {
     "iopub.execute_input": "2021-01-10T11:49:14.398323Z",
     "iopub.status.busy": "2021-01-10T11:49:14.397597Z",
     "iopub.status.idle": "2021-01-10T11:49:39.780773Z",
     "shell.execute_reply": "2021-01-10T11:49:39.781911Z"
    },
    "papermill": {
     "duration": 25.470366,
     "end_time": "2021-01-10T11:49:39.782097",
     "exception": false,
     "start_time": "2021-01-10T11:49:14.311731",
     "status": "completed"
    },
    "tags": []
   },
   "outputs": [
    {
     "data": {
      "text/plain": [
       "SVC(kernel='linear')"
      ]
     },
     "execution_count": 51,
     "metadata": {},
     "output_type": "execute_result"
    }
   ],
   "source": [
    "svm_model = SVC(kernel='linear')\n",
    "svm_model.fit(X_train,y_train)"
   ]
  },
  {
   "cell_type": "code",
   "execution_count": 52,
   "metadata": {
    "execution": {
     "iopub.execute_input": "2021-01-10T11:49:39.949727Z",
     "iopub.status.busy": "2021-01-10T11:49:39.948768Z",
     "iopub.status.idle": "2021-01-10T11:49:39.952801Z",
     "shell.execute_reply": "2021-01-10T11:49:39.952228Z"
    },
    "papermill": {
     "duration": 0.09108,
     "end_time": "2021-01-10T11:49:39.952942",
     "exception": false,
     "start_time": "2021-01-10T11:49:39.861862",
     "status": "completed"
    },
    "tags": []
   },
   "outputs": [],
   "source": [
    "y_predicted = svm_model.predict(X_test)"
   ]
  },
  {
   "cell_type": "code",
   "execution_count": 53,
   "metadata": {
    "execution": {
     "iopub.execute_input": "2021-01-10T11:49:40.120744Z",
     "iopub.status.busy": "2021-01-10T11:49:40.120087Z",
     "iopub.status.idle": "2021-01-10T11:49:40.128160Z",
     "shell.execute_reply": "2021-01-10T11:49:40.127475Z"
    },
    "papermill": {
     "duration": 0.093606,
     "end_time": "2021-01-10T11:49:40.128280",
     "exception": false,
     "start_time": "2021-01-10T11:49:40.034674",
     "status": "completed"
    },
    "tags": []
   },
   "outputs": [
    {
     "data": {
      "text/plain": [
       "array([[136,   3,   0,   0],\n",
       "       [  1, 134,   2,   0],\n",
       "       [  0,   7, 139,   6],\n",
       "       [  0,   0,   7, 134]], dtype=int64)"
      ]
     },
     "execution_count": 53,
     "metadata": {},
     "output_type": "execute_result"
    }
   ],
   "source": [
    "confusion_matrix_result = confusion_matrix(y_test,y_predicted)\n",
    "confusion_matrix_result"
   ]
  },
  {
   "cell_type": "code",
   "execution_count": 54,
   "metadata": {
    "execution": {
     "iopub.execute_input": "2021-01-10T11:49:40.307847Z",
     "iopub.status.busy": "2021-01-10T11:49:40.303880Z",
     "iopub.status.idle": "2021-01-10T11:49:40.527417Z",
     "shell.execute_reply": "2021-01-10T11:49:40.526141Z"
    },
    "papermill": {
     "duration": 0.318071,
     "end_time": "2021-01-10T11:49:40.527563",
     "exception": false,
     "start_time": "2021-01-10T11:49:40.209492",
     "status": "completed"
    },
    "tags": []
   },
   "outputs": [
    {
     "data": {
      "image/png": "[encoded data removed]",
      "text/plain": [
       "<Figure size 432x288 with 2 Axes>"
      ]
     },
     "metadata": {
      "needs_background": "light"
     },
     "output_type": "display_data"
    }
   ],
   "source": [
    "sns.heatmap(confusion_matrix_result,annot=True,cmap='viridis',fmt='.0f')\n",
    "plt.show()"
   ]
  },
  {
   "cell_type": "code",
   "execution_count": 55,
   "metadata": {
    "execution": {
     "iopub.execute_input": "2021-01-10T11:49:40.700916Z",
     "iopub.status.busy": "2021-01-10T11:49:40.700142Z",
     "iopub.status.idle": "2021-01-10T11:49:40.705514Z",
     "shell.execute_reply": "2021-01-10T11:49:40.704985Z"
    },
    "papermill": {
     "duration": 0.093255,
     "end_time": "2021-01-10T11:49:40.705621",
     "exception": false,
     "start_time": "2021-01-10T11:49:40.612366",
     "status": "completed"
    },
    "tags": []
   },
   "outputs": [
    {
     "name": "stdout",
     "output_type": "stream",
     "text": [
      "SVM accuracy score:  0.9543057996485061\n"
     ]
    }
   ],
   "source": [
    "print('SVM accuracy score: ',accuracy_score(y_test,y_predicted))"
   ]
  },
  {
   "cell_type": "code",
   "execution_count": 56,
   "metadata": {
    "execution": {
     "iopub.execute_input": "2021-01-10T11:49:40.875873Z",
     "iopub.status.busy": "2021-01-10T11:49:40.874841Z",
     "iopub.status.idle": "2021-01-10T11:49:40.887868Z",
     "shell.execute_reply": "2021-01-10T11:49:40.886944Z"
    },
    "papermill": {
     "duration": 0.098922,
     "end_time": "2021-01-10T11:49:40.888067",
     "exception": false,
     "start_time": "2021-01-10T11:49:40.789145",
     "status": "completed"
    },
    "tags": []
   },
   "outputs": [
    {
     "name": "stdout",
     "output_type": "stream",
     "text": [
      "              precision    recall  f1-score   support\n",
      "\n",
      "           0       0.99      0.98      0.99       139\n",
      "           1       0.93      0.98      0.95       137\n",
      "           2       0.94      0.91      0.93       152\n",
      "           3       0.96      0.95      0.95       141\n",
      "\n",
      "    accuracy                           0.95       569\n",
      "   macro avg       0.95      0.96      0.95       569\n",
      "weighted avg       0.95      0.95      0.95       569\n",
      "\n"
     ]
    }
   ],
   "source": [
    "classification_report_result = classification_report(y_test,y_predicted)\n",
    "print(classification_report_result)"
   ]
  },
  {
   "cell_type": "markdown",
   "metadata": {},
   "source": [
    "## Results"
   ]
  },
  {
   "cell_type": "markdown",
   "metadata": {},
   "source": [
    "#### Logistic Regression - 94.2%\n",
    "#### SVM - 95.4%\n",
    "#### Decision Tree - 86.3%\n",
    "#### Random Forest - 89.1%"
   ]
  }
 ],
 "metadata": {
  "kernelspec": {
   "display_name": "Python 3",
   "language": "python",
   "name": "python3"
  },
  "language_info": {
   "codemirror_mode": {
    "name": "ipython",
    "version": 3
   },
   "file_extension": ".py",
   "mimetype": "text/x-python",
   "name": "python",
   "nbconvert_exporter": "python",
   "pygments_lexer": "ipython3",
   "version": "3.7.9"
  },
  "papermill": {
   "duration": 162.648958,
   "end_time": "2021-01-10T11:49:41.091519",
   "environment_variables": {},
   "exception": null,
   "input_path": "__notebook__.ipynb",
   "output_path": "__notebook__.ipynb",
   "parameters": {},
   "start_time": "2021-01-10T11:46:58.442561",
   "version": "2.1.0"
  }
 },
 "nbformat": 4,
 "nbformat_minor": 4
}
